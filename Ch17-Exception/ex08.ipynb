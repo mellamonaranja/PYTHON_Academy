{
 "cells": [
  {
   "cell_type": "code",
   "execution_count": null,
   "metadata": {},
   "outputs": [],
   "source": [
    "'''\n",
    "try ~ except ~ else ~ finally\n",
    "'''"
   ]
  },
  {
   "cell_type": "code",
   "execution_count": 3,
   "metadata": {},
   "outputs": [],
   "source": [
    "def divide(x, y):\n",
    "    return x/y"
   ]
  },
  {
   "cell_type": "code",
   "execution_count": null,
   "metadata": {},
   "outputs": [],
   "source": []
  },
  {
   "cell_type": "code",
   "execution_count": 11,
   "metadata": {},
   "outputs": [],
   "source": [
    "result = divide(10, 3)"
   ]
  },
  {
   "cell_type": "code",
   "execution_count": 12,
   "metadata": {},
   "outputs": [
    {
     "data": {
      "text/plain": [
       "3.3333333333333335"
      ]
     },
     "execution_count": 12,
     "metadata": {},
     "output_type": "execute_result"
    }
   ],
   "source": [
    "result"
   ]
  },
  {
   "cell_type": "code",
   "execution_count": 17,
   "metadata": {},
   "outputs": [
    {
     "name": "stdout",
     "output_type": "stream",
     "text": [
      "Result: 3.3333333333333335\n",
      "finally: 에러 유무와 상관없이 항상 수행된느 블럭입니다.\n"
     ]
    }
   ],
   "source": [
    "try:\n",
    "#     result = divide(10, 0)\n",
    "#     result = divide(10, 'python')\n",
    "#     resule = add(10, 0)\n",
    "    \n",
    "    result = divide(10, 3)\n",
    "#     print(result)\n",
    "    \n",
    "except ZeroDivisionError:\n",
    "    print('Error: 0으로 나눌 수 없습니다.')\n",
    "except TypeError:\n",
    "    print('Error: 모든 인자는 숫자여야 합니다.')\n",
    "except :\n",
    "    print('Error: 이외의 모든 에러 처리')\n",
    "else:\n",
    "    # 에러가 발생하지 않은 경우 수행되는 블럭\n",
    "    print('Result: {0}'.format(result))\n",
    "finally:\n",
    "    # 에러 발생 유무와 상관없이 수행되는 블럭\n",
    "    print('finally: 에러 유무와 상관없이 항상 수행된느 블럭입니다.')\n",
    "    "
   ]
  },
  {
   "cell_type": "code",
   "execution_count": null,
   "metadata": {},
   "outputs": [],
   "source": []
  },
  {
   "cell_type": "code",
   "execution_count": 18,
   "metadata": {},
   "outputs": [
    {
     "name": "stdout",
     "output_type": "stream",
     "text": [
      "Error: 모든 인자는 숫자여야 합니다.\n",
      "finally: 에러 유무와 상관없이 항상 수행된느 블럭입니다.\n"
     ]
    }
   ],
   "source": [
    "try:\n",
    "#     result = divide(10, 0)\n",
    "    result = divide(10, 'python')\n",
    "#     resule = add(10, 0)\n",
    "    \n",
    "#     result = divide(10, 3)\n",
    "#     print(result)\n",
    "    \n",
    "except ZeroDivisionError:\n",
    "    print('Error: 0으로 나눌 수 없습니다.')\n",
    "except TypeError:\n",
    "    print('Error: 모든 인자는 숫자여야 합니다.')\n",
    "except :\n",
    "    print('Error: 이외의 모든 에러 처리')\n",
    "else:\n",
    "    # 에러가 발생하지 않은 경우 수행되는 블럭\n",
    "    print('Result: {0}'.format(result))\n",
    "finally:\n",
    "    # 에러 발생 유무와 상관없이 수행되는 블럭\n",
    "    print('finally: 에러 유무와 상관없이 항상 수행된느 블럭입니다.')\n",
    "    "
   ]
  },
  {
   "cell_type": "code",
   "execution_count": null,
   "metadata": {},
   "outputs": [],
   "source": []
  },
  {
   "cell_type": "code",
   "execution_count": 19,
   "metadata": {},
   "outputs": [
    {
     "name": "stdout",
     "output_type": "stream",
     "text": [
      "Error: 이외의 모든 에러 처리\n",
      "finally: 에러 유무와 상관없이 항상 수행된느 블럭입니다.\n"
     ]
    }
   ],
   "source": [
    "try:\n",
    "#     result = divide(10, 0)\n",
    "#     result = divide(10, 'python')\n",
    "    resule = add(10, 0)\n",
    "    \n",
    "#     result = divide(10, 3)\n",
    "#     print(result)\n",
    "    \n",
    "except ZeroDivisionError:\n",
    "    print('Error: 0으로 나눌 수 없습니다.')\n",
    "except TypeError:\n",
    "    print('Error: 모든 인자는 숫자여야 합니다.')\n",
    "except :\n",
    "    print('Error: 이외의 모든 에러 처리')\n",
    "else:\n",
    "    # 에러가 발생하지 않은 경우 수행되는 블럭\n",
    "    print('Result: {0}'.format(result))\n",
    "finally:\n",
    "    # 에러 발생 유무와 상관없이 수행되는 블럭\n",
    "    print('finally: 에러 유무와 상관없이 항상 수행된느 블럭입니다.')\n",
    "    "
   ]
  },
  {
   "cell_type": "code",
   "execution_count": null,
   "metadata": {},
   "outputs": [],
   "source": []
  }
 ],
 "metadata": {
  "kernelspec": {
   "display_name": "Python 3",
   "language": "python",
   "name": "python3"
  },
  "language_info": {
   "codemirror_mode": {
    "name": "ipython",
    "version": 3
   },
   "file_extension": ".py",
   "mimetype": "text/x-python",
   "name": "python",
   "nbconvert_exporter": "python",
   "pygments_lexer": "ipython3",
   "version": "3.7.6"
  }
 },
 "nbformat": 4,
 "nbformat_minor": 4
}
