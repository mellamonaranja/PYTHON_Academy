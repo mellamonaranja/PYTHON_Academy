{
 "cells": [
  {
   "cell_type": "code",
   "execution_count": null,
   "metadata": {},
   "outputs": [],
   "source": [
    "'''\n",
    "같은 부류의 예외 처리\n",
    "\n",
    "'''"
   ]
  },
  {
   "cell_type": "code",
   "execution_count": 1,
   "metadata": {},
   "outputs": [],
   "source": [
    "def divide(x, y):\n",
    "    return x/y"
   ]
  },
  {
   "cell_type": "code",
   "execution_count": null,
   "metadata": {},
   "outputs": [],
   "source": []
  },
  {
   "cell_type": "code",
   "execution_count": 3,
   "metadata": {},
   "outputs": [
    {
     "name": "stdout",
     "output_type": "stream",
     "text": [
      "Error: 수치 연산 에러 발생\n"
     ]
    }
   ],
   "source": [
    "try:\n",
    "    result = divide(10, 0) # ZeroDivisionError\n",
    "except ArithmeticError:\n",
    "    print('Error: 수치 연산 에러 발생')\n",
    "except TypeError:\n",
    "    print('Error: 모든 인자는 숫자여야 합니다.')\n",
    "except:\n",
    "    print('Error: 이외 처리')\n",
    "    "
   ]
  },
  {
   "cell_type": "code",
   "execution_count": null,
   "metadata": {},
   "outputs": [],
   "source": []
  },
  {
   "cell_type": "code",
   "execution_count": 4,
   "metadata": {},
   "outputs": [
    {
     "name": "stdout",
     "output_type": "stream",
     "text": [
      "ZeroDivisionError occured\n"
     ]
    }
   ],
   "source": [
    "try:\n",
    "    result = divide(10, 0) # ZeroDivisionError\n",
    "except ZeroDivisionError:\n",
    "    print('ZeroDivisionError occured')\n",
    "except ArithmeticError:\n",
    "    print('Error: 수치 연산 에러 발생')\n",
    "except TypeError:\n",
    "    print('Error: 모든 인자는 숫자여야 합니다.')\n",
    "except:\n",
    "    print('Error: 이외 처리')\n",
    "    "
   ]
  },
  {
   "cell_type": "code",
   "execution_count": null,
   "metadata": {},
   "outputs": [],
   "source": []
  },
  {
   "cell_type": "code",
   "execution_count": 5,
   "metadata": {},
   "outputs": [
    {
     "name": "stdout",
     "output_type": "stream",
     "text": [
      "Error: 수치 연산 에러 발생\n"
     ]
    }
   ],
   "source": [
    "try:\n",
    "    result = divide(10, 0) # ZeroDivisionError\n",
    "except ArithmeticError:\n",
    "    print('Error: 수치 연산 에러 발생')\n",
    "except ZeroDivisionError:\n",
    "    print('ZeroDivisionError occured')\n",
    "except TypeError:\n",
    "    print('Error: 모든 인자는 숫자여야 합니다.')\n",
    "except:\n",
    "    print('Error: 이외 처리')    "
   ]
  },
  {
   "cell_type": "code",
   "execution_count": null,
   "metadata": {},
   "outputs": [],
   "source": []
  }
 ],
 "metadata": {
  "kernelspec": {
   "display_name": "Python 3",
   "language": "python",
   "name": "python3"
  },
  "language_info": {
   "codemirror_mode": {
    "name": "ipython",
    "version": 3
   },
   "file_extension": ".py",
   "mimetype": "text/x-python",
   "name": "python",
   "nbconvert_exporter": "python",
   "pygments_lexer": "ipython3",
   "version": "3.7.6"
  }
 },
 "nbformat": 4,
 "nbformat_minor": 4
}
