{
 "cells": [
  {
   "cell_type": "code",
   "execution_count": null,
   "metadata": {},
   "outputs": [],
   "source": [
    "'''\n",
    "try ~ except(예외1, 예외2, ...)\n",
    "'''"
   ]
  },
  {
   "cell_type": "code",
   "execution_count": 1,
   "metadata": {},
   "outputs": [],
   "source": [
    "def divide(x, y):\n",
    "    return x/y"
   ]
  },
  {
   "cell_type": "code",
   "execution_count": 2,
   "metadata": {},
   "outputs": [
    {
     "name": "stdout",
     "output_type": "stream",
     "text": [
      "Error: 0으로 나눌 수 없습니다.\n"
     ]
    }
   ],
   "source": [
    "try:\n",
    "    result = divide(10, 0) # ZeroDivisionError\n",
    "    \n",
    "except ZeroDivisionError:\n",
    "    print('Error: 0으로 나눌 수 없습니다.')"
   ]
  },
  {
   "cell_type": "code",
   "execution_count": null,
   "metadata": {},
   "outputs": [],
   "source": []
  },
  {
   "cell_type": "code",
   "execution_count": 7,
   "metadata": {},
   "outputs": [
    {
     "name": "stdout",
     "output_type": "stream",
     "text": [
      "Error: 연산 에러 발생\n"
     ]
    }
   ],
   "source": [
    "try:\n",
    "#     result = divide(10, 0) # ZeroDivisionError\n",
    "    result = divide('python', 10) # TypeError\n",
    "    \n",
    "except (ZeroDivisionError, TypeError):\n",
    "    print('Error: 연산 에러 발생')"
   ]
  },
  {
   "cell_type": "code",
   "execution_count": null,
   "metadata": {},
   "outputs": [],
   "source": []
  },
  {
   "cell_type": "code",
   "execution_count": 12,
   "metadata": {},
   "outputs": [
    {
     "name": "stdout",
     "output_type": "stream",
     "text": [
      "Error: 그외의 에러 처리\n"
     ]
    }
   ],
   "source": [
    "try:\n",
    "#     result = divide(10, 0) # ZeroDivisionError\n",
    "#     result = divide('python', 10) # TypeError\n",
    "    result = add(20, 0) # NameError\n",
    "    \n",
    "except (FloatingPointError, OverflowError, ZeroDivisionError):\n",
    "    print('Error: 수치 연산 에러 발생')\n",
    "except TypeError:\n",
    "    print('Error: 모든 인자는 숫자여야 합니다.')\n",
    "except:\n",
    "    print('Error: 그외의 에러 처리')"
   ]
  },
  {
   "cell_type": "code",
   "execution_count": null,
   "metadata": {},
   "outputs": [],
   "source": []
  }
 ],
 "metadata": {
  "kernelspec": {
   "display_name": "Python 3",
   "language": "python",
   "name": "python3"
  },
  "language_info": {
   "codemirror_mode": {
    "name": "ipython",
    "version": 3
   },
   "file_extension": ".py",
   "mimetype": "text/x-python",
   "name": "python",
   "nbconvert_exporter": "python",
   "pygments_lexer": "ipython3",
   "version": "3.7.6"
  }
 },
 "nbformat": 4,
 "nbformat_minor": 4
}
