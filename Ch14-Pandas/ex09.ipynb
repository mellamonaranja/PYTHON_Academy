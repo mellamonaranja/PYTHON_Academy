{
 "cells": [
  {
   "cell_type": "code",
   "execution_count": 1,
   "metadata": {},
   "outputs": [],
   "source": [
    "import pandas as pd\n",
    "import numpy as np"
   ]
  },
  {
   "cell_type": "code",
   "execution_count": 3,
   "metadata": {},
   "outputs": [],
   "source": [
    "np.random.seed(2)"
   ]
  },
  {
   "cell_type": "code",
   "execution_count": 6,
   "metadata": {},
   "outputs": [
    {
     "data": {
      "text/plain": [
       "array([[3, 3, 2, 1],\n",
       "       [2, 4, 3, 0],\n",
       "       [4, 3, 1, 2],\n",
       "       [0, 4, 4, 2]])"
      ]
     },
     "execution_count": 6,
     "metadata": {},
     "output_type": "execute_result"
    }
   ],
   "source": [
    "np.random.randint(5, size=(4,4))"
   ]
  },
  {
   "cell_type": "code",
   "execution_count": 4,
   "metadata": {},
   "outputs": [],
   "source": [
    "df = pd.DataFrame(np.random.randint(5, size=(4,4)), \n",
    "                  dtype=float)"
   ]
  },
  {
   "cell_type": "code",
   "execution_count": 5,
   "metadata": {},
   "outputs": [
    {
     "data": {
      "text/html": [
       "<div>\n",
       "<style scoped>\n",
       "    .dataframe tbody tr th:only-of-type {\n",
       "        vertical-align: middle;\n",
       "    }\n",
       "\n",
       "    .dataframe tbody tr th {\n",
       "        vertical-align: top;\n",
       "    }\n",
       "\n",
       "    .dataframe thead th {\n",
       "        text-align: right;\n",
       "    }\n",
       "</style>\n",
       "<table border=\"1\" class=\"dataframe\">\n",
       "  <thead>\n",
       "    <tr style=\"text-align: right;\">\n",
       "      <th></th>\n",
       "      <th>0</th>\n",
       "      <th>1</th>\n",
       "      <th>2</th>\n",
       "      <th>3</th>\n",
       "    </tr>\n",
       "  </thead>\n",
       "  <tbody>\n",
       "    <tr>\n",
       "      <th>0</th>\n",
       "      <td>0.0</td>\n",
       "      <td>0.0</td>\n",
       "      <td>3.0</td>\n",
       "      <td>2.0</td>\n",
       "    </tr>\n",
       "    <tr>\n",
       "      <th>1</th>\n",
       "      <td>3.0</td>\n",
       "      <td>0.0</td>\n",
       "      <td>2.0</td>\n",
       "      <td>1.0</td>\n",
       "    </tr>\n",
       "    <tr>\n",
       "      <th>2</th>\n",
       "      <td>3.0</td>\n",
       "      <td>2.0</td>\n",
       "      <td>4.0</td>\n",
       "      <td>4.0</td>\n",
       "    </tr>\n",
       "    <tr>\n",
       "      <th>3</th>\n",
       "      <td>4.0</td>\n",
       "      <td>3.0</td>\n",
       "      <td>4.0</td>\n",
       "      <td>2.0</td>\n",
       "    </tr>\n",
       "  </tbody>\n",
       "</table>\n",
       "</div>"
      ],
      "text/plain": [
       "     0    1    2    3\n",
       "0  0.0  0.0  3.0  2.0\n",
       "1  3.0  0.0  2.0  1.0\n",
       "2  3.0  2.0  4.0  4.0\n",
       "3  4.0  3.0  4.0  2.0"
      ]
     },
     "execution_count": 5,
     "metadata": {},
     "output_type": "execute_result"
    }
   ],
   "source": [
    "df"
   ]
  },
  {
   "cell_type": "code",
   "execution_count": 7,
   "metadata": {},
   "outputs": [
    {
     "data": {
      "text/html": [
       "<div>\n",
       "<style scoped>\n",
       "    .dataframe tbody tr th:only-of-type {\n",
       "        vertical-align: middle;\n",
       "    }\n",
       "\n",
       "    .dataframe tbody tr th {\n",
       "        vertical-align: top;\n",
       "    }\n",
       "\n",
       "    .dataframe thead th {\n",
       "        text-align: right;\n",
       "    }\n",
       "</style>\n",
       "<table border=\"1\" class=\"dataframe\">\n",
       "  <thead>\n",
       "    <tr style=\"text-align: right;\">\n",
       "      <th></th>\n",
       "      <th>0</th>\n",
       "      <th>1</th>\n",
       "      <th>2</th>\n",
       "      <th>3</th>\n",
       "    </tr>\n",
       "  </thead>\n",
       "  <tbody>\n",
       "    <tr>\n",
       "      <th>1</th>\n",
       "      <td>3.0</td>\n",
       "      <td>0.0</td>\n",
       "      <td>2.0</td>\n",
       "      <td>1.0</td>\n",
       "    </tr>\n",
       "    <tr>\n",
       "      <th>0</th>\n",
       "      <td>0.0</td>\n",
       "      <td>0.0</td>\n",
       "      <td>3.0</td>\n",
       "      <td>2.0</td>\n",
       "    </tr>\n",
       "    <tr>\n",
       "      <th>2</th>\n",
       "      <td>3.0</td>\n",
       "      <td>2.0</td>\n",
       "      <td>4.0</td>\n",
       "      <td>4.0</td>\n",
       "    </tr>\n",
       "    <tr>\n",
       "      <th>3</th>\n",
       "      <td>4.0</td>\n",
       "      <td>3.0</td>\n",
       "      <td>4.0</td>\n",
       "      <td>2.0</td>\n",
       "    </tr>\n",
       "  </tbody>\n",
       "</table>\n",
       "</div>"
      ],
      "text/plain": [
       "     0    1    2    3\n",
       "1  3.0  0.0  2.0  1.0\n",
       "0  0.0  0.0  3.0  2.0\n",
       "2  3.0  2.0  4.0  4.0\n",
       "3  4.0  3.0  4.0  2.0"
      ]
     },
     "execution_count": 7,
     "metadata": {},
     "output_type": "execute_result"
    }
   ],
   "source": [
    "df.sort_values(by=2)"
   ]
  },
  {
   "cell_type": "code",
   "execution_count": 8,
   "metadata": {},
   "outputs": [
    {
     "data": {
      "text/html": [
       "<div>\n",
       "<style scoped>\n",
       "    .dataframe tbody tr th:only-of-type {\n",
       "        vertical-align: middle;\n",
       "    }\n",
       "\n",
       "    .dataframe tbody tr th {\n",
       "        vertical-align: top;\n",
       "    }\n",
       "\n",
       "    .dataframe thead th {\n",
       "        text-align: right;\n",
       "    }\n",
       "</style>\n",
       "<table border=\"1\" class=\"dataframe\">\n",
       "  <thead>\n",
       "    <tr style=\"text-align: right;\">\n",
       "      <th></th>\n",
       "      <th>0</th>\n",
       "      <th>1</th>\n",
       "      <th>2</th>\n",
       "      <th>3</th>\n",
       "    </tr>\n",
       "  </thead>\n",
       "  <tbody>\n",
       "    <tr>\n",
       "      <th>1</th>\n",
       "      <td>3.0</td>\n",
       "      <td>0.0</td>\n",
       "      <td>2.0</td>\n",
       "      <td>1.0</td>\n",
       "    </tr>\n",
       "    <tr>\n",
       "      <th>0</th>\n",
       "      <td>0.0</td>\n",
       "      <td>0.0</td>\n",
       "      <td>3.0</td>\n",
       "      <td>2.0</td>\n",
       "    </tr>\n",
       "    <tr>\n",
       "      <th>3</th>\n",
       "      <td>4.0</td>\n",
       "      <td>3.0</td>\n",
       "      <td>4.0</td>\n",
       "      <td>2.0</td>\n",
       "    </tr>\n",
       "    <tr>\n",
       "      <th>2</th>\n",
       "      <td>3.0</td>\n",
       "      <td>2.0</td>\n",
       "      <td>4.0</td>\n",
       "      <td>4.0</td>\n",
       "    </tr>\n",
       "  </tbody>\n",
       "</table>\n",
       "</div>"
      ],
      "text/plain": [
       "     0    1    2    3\n",
       "1  3.0  0.0  2.0  1.0\n",
       "0  0.0  0.0  3.0  2.0\n",
       "3  4.0  3.0  4.0  2.0\n",
       "2  3.0  2.0  4.0  4.0"
      ]
     },
     "execution_count": 8,
     "metadata": {},
     "output_type": "execute_result"
    }
   ],
   "source": [
    "df.sort_values(by=[2, 3, 0])"
   ]
  },
  {
   "cell_type": "code",
   "execution_count": null,
   "metadata": {},
   "outputs": [],
   "source": []
  },
  {
   "cell_type": "code",
   "execution_count": 9,
   "metadata": {},
   "outputs": [],
   "source": [
    "np.random.seed(1)"
   ]
  },
  {
   "cell_type": "code",
   "execution_count": 11,
   "metadata": {},
   "outputs": [
    {
     "data": {
      "text/plain": [
       "array([[8, 9, 5, 0, 0, 1, 7, 6],\n",
       "       [9, 2, 4, 5, 2, 4, 2, 4],\n",
       "       [7, 7, 9, 1, 7, 0, 6, 9],\n",
       "       [9, 7, 6, 9, 1, 0, 1, 8]])"
      ]
     },
     "execution_count": 11,
     "metadata": {},
     "output_type": "execute_result"
    }
   ],
   "source": [
    "np.random.randint(10, size=(4, 8))"
   ]
  },
  {
   "cell_type": "code",
   "execution_count": 12,
   "metadata": {},
   "outputs": [],
   "source": [
    "df = pd.DataFrame(np.random.randint(10, size=(4, 8)))"
   ]
  },
  {
   "cell_type": "code",
   "execution_count": 13,
   "metadata": {},
   "outputs": [
    {
     "data": {
      "text/html": [
       "<div>\n",
       "<style scoped>\n",
       "    .dataframe tbody tr th:only-of-type {\n",
       "        vertical-align: middle;\n",
       "    }\n",
       "\n",
       "    .dataframe tbody tr th {\n",
       "        vertical-align: top;\n",
       "    }\n",
       "\n",
       "    .dataframe thead th {\n",
       "        text-align: right;\n",
       "    }\n",
       "</style>\n",
       "<table border=\"1\" class=\"dataframe\">\n",
       "  <thead>\n",
       "    <tr style=\"text-align: right;\">\n",
       "      <th></th>\n",
       "      <th>0</th>\n",
       "      <th>1</th>\n",
       "      <th>2</th>\n",
       "      <th>3</th>\n",
       "      <th>4</th>\n",
       "      <th>5</th>\n",
       "      <th>6</th>\n",
       "      <th>7</th>\n",
       "    </tr>\n",
       "  </thead>\n",
       "  <tbody>\n",
       "    <tr>\n",
       "      <th>0</th>\n",
       "      <td>8</td>\n",
       "      <td>3</td>\n",
       "      <td>9</td>\n",
       "      <td>8</td>\n",
       "      <td>7</td>\n",
       "      <td>3</td>\n",
       "      <td>6</td>\n",
       "      <td>5</td>\n",
       "    </tr>\n",
       "    <tr>\n",
       "      <th>1</th>\n",
       "      <td>1</td>\n",
       "      <td>9</td>\n",
       "      <td>3</td>\n",
       "      <td>4</td>\n",
       "      <td>8</td>\n",
       "      <td>1</td>\n",
       "      <td>4</td>\n",
       "      <td>0</td>\n",
       "    </tr>\n",
       "    <tr>\n",
       "      <th>2</th>\n",
       "      <td>3</td>\n",
       "      <td>9</td>\n",
       "      <td>2</td>\n",
       "      <td>0</td>\n",
       "      <td>4</td>\n",
       "      <td>9</td>\n",
       "      <td>2</td>\n",
       "      <td>7</td>\n",
       "    </tr>\n",
       "    <tr>\n",
       "      <th>3</th>\n",
       "      <td>7</td>\n",
       "      <td>9</td>\n",
       "      <td>8</td>\n",
       "      <td>6</td>\n",
       "      <td>9</td>\n",
       "      <td>3</td>\n",
       "      <td>7</td>\n",
       "      <td>7</td>\n",
       "    </tr>\n",
       "  </tbody>\n",
       "</table>\n",
       "</div>"
      ],
      "text/plain": [
       "   0  1  2  3  4  5  6  7\n",
       "0  8  3  9  8  7  3  6  5\n",
       "1  1  9  3  4  8  1  4  0\n",
       "2  3  9  2  0  4  9  2  7\n",
       "3  7  9  8  6  9  3  7  7"
      ]
     },
     "execution_count": 13,
     "metadata": {},
     "output_type": "execute_result"
    }
   ],
   "source": [
    "df"
   ]
  },
  {
   "cell_type": "code",
   "execution_count": 14,
   "metadata": {},
   "outputs": [
    {
     "data": {
      "text/plain": [
       "0    49\n",
       "1    30\n",
       "2    36\n",
       "3    56\n",
       "dtype: int64"
      ]
     },
     "execution_count": 14,
     "metadata": {},
     "output_type": "execute_result"
    }
   ],
   "source": [
    "df.sum(axis=1)"
   ]
  },
  {
   "cell_type": "code",
   "execution_count": 15,
   "metadata": {},
   "outputs": [
    {
     "data": {
      "text/plain": [
       "0    19\n",
       "1    30\n",
       "2    22\n",
       "3    18\n",
       "4    28\n",
       "5    16\n",
       "6    19\n",
       "7    19\n",
       "dtype: int64"
      ]
     },
     "execution_count": 15,
     "metadata": {},
     "output_type": "execute_result"
    }
   ],
   "source": [
    "df.sum(axis=0)"
   ]
  },
  {
   "cell_type": "code",
   "execution_count": 16,
   "metadata": {},
   "outputs": [
    {
     "data": {
      "text/plain": [
       "0    49\n",
       "1    30\n",
       "2    36\n",
       "3    56\n",
       "dtype: int64"
      ]
     },
     "execution_count": 16,
     "metadata": {},
     "output_type": "execute_result"
    }
   ],
   "source": [
    "df.sum(axis=1)"
   ]
  },
  {
   "cell_type": "code",
   "execution_count": 17,
   "metadata": {},
   "outputs": [],
   "source": [
    "df['RowSum'] = df.sum(axis=1)"
   ]
  },
  {
   "cell_type": "code",
   "execution_count": 18,
   "metadata": {},
   "outputs": [
    {
     "data": {
      "text/plain": [
       "0    49\n",
       "1    30\n",
       "2    36\n",
       "3    56\n",
       "Name: RowSum, dtype: int64"
      ]
     },
     "execution_count": 18,
     "metadata": {},
     "output_type": "execute_result"
    }
   ],
   "source": [
    "df['RowSum']"
   ]
  },
  {
   "cell_type": "code",
   "execution_count": 19,
   "metadata": {},
   "outputs": [
    {
     "data": {
      "text/html": [
       "<div>\n",
       "<style scoped>\n",
       "    .dataframe tbody tr th:only-of-type {\n",
       "        vertical-align: middle;\n",
       "    }\n",
       "\n",
       "    .dataframe tbody tr th {\n",
       "        vertical-align: top;\n",
       "    }\n",
       "\n",
       "    .dataframe thead th {\n",
       "        text-align: right;\n",
       "    }\n",
       "</style>\n",
       "<table border=\"1\" class=\"dataframe\">\n",
       "  <thead>\n",
       "    <tr style=\"text-align: right;\">\n",
       "      <th></th>\n",
       "      <th>0</th>\n",
       "      <th>1</th>\n",
       "      <th>2</th>\n",
       "      <th>3</th>\n",
       "      <th>4</th>\n",
       "      <th>5</th>\n",
       "      <th>6</th>\n",
       "      <th>7</th>\n",
       "      <th>RowSum</th>\n",
       "    </tr>\n",
       "  </thead>\n",
       "  <tbody>\n",
       "    <tr>\n",
       "      <th>0</th>\n",
       "      <td>8</td>\n",
       "      <td>3</td>\n",
       "      <td>9</td>\n",
       "      <td>8</td>\n",
       "      <td>7</td>\n",
       "      <td>3</td>\n",
       "      <td>6</td>\n",
       "      <td>5</td>\n",
       "      <td>49</td>\n",
       "    </tr>\n",
       "    <tr>\n",
       "      <th>1</th>\n",
       "      <td>1</td>\n",
       "      <td>9</td>\n",
       "      <td>3</td>\n",
       "      <td>4</td>\n",
       "      <td>8</td>\n",
       "      <td>1</td>\n",
       "      <td>4</td>\n",
       "      <td>0</td>\n",
       "      <td>30</td>\n",
       "    </tr>\n",
       "    <tr>\n",
       "      <th>2</th>\n",
       "      <td>3</td>\n",
       "      <td>9</td>\n",
       "      <td>2</td>\n",
       "      <td>0</td>\n",
       "      <td>4</td>\n",
       "      <td>9</td>\n",
       "      <td>2</td>\n",
       "      <td>7</td>\n",
       "      <td>36</td>\n",
       "    </tr>\n",
       "    <tr>\n",
       "      <th>3</th>\n",
       "      <td>7</td>\n",
       "      <td>9</td>\n",
       "      <td>8</td>\n",
       "      <td>6</td>\n",
       "      <td>9</td>\n",
       "      <td>3</td>\n",
       "      <td>7</td>\n",
       "      <td>7</td>\n",
       "      <td>56</td>\n",
       "    </tr>\n",
       "  </tbody>\n",
       "</table>\n",
       "</div>"
      ],
      "text/plain": [
       "   0  1  2  3  4  5  6  7  RowSum\n",
       "0  8  3  9  8  7  3  6  5      49\n",
       "1  1  9  3  4  8  1  4  0      30\n",
       "2  3  9  2  0  4  9  2  7      36\n",
       "3  7  9  8  6  9  3  7  7      56"
      ]
     },
     "execution_count": 19,
     "metadata": {},
     "output_type": "execute_result"
    }
   ],
   "source": [
    "df"
   ]
  },
  {
   "cell_type": "code",
   "execution_count": 20,
   "metadata": {},
   "outputs": [
    {
     "data": {
      "text/plain": [
       "0          19\n",
       "1          30\n",
       "2          22\n",
       "3          18\n",
       "4          28\n",
       "5          16\n",
       "6          19\n",
       "7          19\n",
       "RowSum    171\n",
       "dtype: int64"
      ]
     },
     "execution_count": 20,
     "metadata": {},
     "output_type": "execute_result"
    }
   ],
   "source": [
    "df.sum()"
   ]
  },
  {
   "cell_type": "code",
   "execution_count": 21,
   "metadata": {},
   "outputs": [
    {
     "data": {
      "text/plain": [
       "0          19\n",
       "1          30\n",
       "2          22\n",
       "3          18\n",
       "4          28\n",
       "5          16\n",
       "6          19\n",
       "7          19\n",
       "RowSum    171\n",
       "dtype: int64"
      ]
     },
     "execution_count": 21,
     "metadata": {},
     "output_type": "execute_result"
    }
   ],
   "source": [
    "df.sum(axis=0)"
   ]
  },
  {
   "cell_type": "code",
   "execution_count": 23,
   "metadata": {},
   "outputs": [
    {
     "data": {
      "text/plain": [
       "0    49\n",
       "1    30\n",
       "2    36\n",
       "3    56\n",
       "Name: RowSum, dtype: int64"
      ]
     },
     "execution_count": 23,
     "metadata": {},
     "output_type": "execute_result"
    }
   ],
   "source": [
    "df['RowSum']"
   ]
  },
  {
   "cell_type": "code",
   "execution_count": 24,
   "metadata": {},
   "outputs": [
    {
     "ename": "KeyError",
     "evalue": "'ColTotal'",
     "output_type": "error",
     "traceback": [
      "\u001b[1;31m---------------------------------------------------------------------------\u001b[0m",
      "\u001b[1;31mKeyError\u001b[0m                                  Traceback (most recent call last)",
      "\u001b[1;32m~\\Anaconda3\\envs\\codelab\\lib\\site-packages\\pandas\\core\\indexes\\base.py\u001b[0m in \u001b[0;36mget_loc\u001b[1;34m(self, key, method, tolerance)\u001b[0m\n\u001b[0;32m   2896\u001b[0m             \u001b[1;32mtry\u001b[0m\u001b[1;33m:\u001b[0m\u001b[1;33m\u001b[0m\u001b[1;33m\u001b[0m\u001b[0m\n\u001b[1;32m-> 2897\u001b[1;33m                 \u001b[1;32mreturn\u001b[0m \u001b[0mself\u001b[0m\u001b[1;33m.\u001b[0m\u001b[0m_engine\u001b[0m\u001b[1;33m.\u001b[0m\u001b[0mget_loc\u001b[0m\u001b[1;33m(\u001b[0m\u001b[0mkey\u001b[0m\u001b[1;33m)\u001b[0m\u001b[1;33m\u001b[0m\u001b[1;33m\u001b[0m\u001b[0m\n\u001b[0m\u001b[0;32m   2898\u001b[0m             \u001b[1;32mexcept\u001b[0m \u001b[0mKeyError\u001b[0m\u001b[1;33m:\u001b[0m\u001b[1;33m\u001b[0m\u001b[1;33m\u001b[0m\u001b[0m\n",
      "\u001b[1;32mpandas/_libs/index.pyx\u001b[0m in \u001b[0;36mpandas._libs.index.IndexEngine.get_loc\u001b[1;34m()\u001b[0m\n",
      "\u001b[1;32mpandas/_libs/index.pyx\u001b[0m in \u001b[0;36mpandas._libs.index.IndexEngine.get_loc\u001b[1;34m()\u001b[0m\n",
      "\u001b[1;32mpandas/_libs/hashtable_class_helper.pxi\u001b[0m in \u001b[0;36mpandas._libs.hashtable.PyObjectHashTable.get_item\u001b[1;34m()\u001b[0m\n",
      "\u001b[1;32mpandas/_libs/hashtable_class_helper.pxi\u001b[0m in \u001b[0;36mpandas._libs.hashtable.PyObjectHashTable.get_item\u001b[1;34m()\u001b[0m\n",
      "\u001b[1;31mKeyError\u001b[0m: 'ColTotal'",
      "\nDuring handling of the above exception, another exception occurred:\n",
      "\u001b[1;31mKeyError\u001b[0m                                  Traceback (most recent call last)",
      "\u001b[1;32m<ipython-input-24-e0d52ab208ba>\u001b[0m in \u001b[0;36m<module>\u001b[1;34m\u001b[0m\n\u001b[1;32m----> 1\u001b[1;33m \u001b[0mdf\u001b[0m\u001b[1;33m[\u001b[0m\u001b[1;34m'ColTotal'\u001b[0m\u001b[1;33m]\u001b[0m\u001b[1;33m\u001b[0m\u001b[1;33m\u001b[0m\u001b[0m\n\u001b[0m",
      "\u001b[1;32m~\\Anaconda3\\envs\\codelab\\lib\\site-packages\\pandas\\core\\frame.py\u001b[0m in \u001b[0;36m__getitem__\u001b[1;34m(self, key)\u001b[0m\n\u001b[0;32m   2993\u001b[0m             \u001b[1;32mif\u001b[0m \u001b[0mself\u001b[0m\u001b[1;33m.\u001b[0m\u001b[0mcolumns\u001b[0m\u001b[1;33m.\u001b[0m\u001b[0mnlevels\u001b[0m \u001b[1;33m>\u001b[0m \u001b[1;36m1\u001b[0m\u001b[1;33m:\u001b[0m\u001b[1;33m\u001b[0m\u001b[1;33m\u001b[0m\u001b[0m\n\u001b[0;32m   2994\u001b[0m                 \u001b[1;32mreturn\u001b[0m \u001b[0mself\u001b[0m\u001b[1;33m.\u001b[0m\u001b[0m_getitem_multilevel\u001b[0m\u001b[1;33m(\u001b[0m\u001b[0mkey\u001b[0m\u001b[1;33m)\u001b[0m\u001b[1;33m\u001b[0m\u001b[1;33m\u001b[0m\u001b[0m\n\u001b[1;32m-> 2995\u001b[1;33m             \u001b[0mindexer\u001b[0m \u001b[1;33m=\u001b[0m \u001b[0mself\u001b[0m\u001b[1;33m.\u001b[0m\u001b[0mcolumns\u001b[0m\u001b[1;33m.\u001b[0m\u001b[0mget_loc\u001b[0m\u001b[1;33m(\u001b[0m\u001b[0mkey\u001b[0m\u001b[1;33m)\u001b[0m\u001b[1;33m\u001b[0m\u001b[1;33m\u001b[0m\u001b[0m\n\u001b[0m\u001b[0;32m   2996\u001b[0m             \u001b[1;32mif\u001b[0m \u001b[0mis_integer\u001b[0m\u001b[1;33m(\u001b[0m\u001b[0mindexer\u001b[0m\u001b[1;33m)\u001b[0m\u001b[1;33m:\u001b[0m\u001b[1;33m\u001b[0m\u001b[1;33m\u001b[0m\u001b[0m\n\u001b[0;32m   2997\u001b[0m                 \u001b[0mindexer\u001b[0m \u001b[1;33m=\u001b[0m \u001b[1;33m[\u001b[0m\u001b[0mindexer\u001b[0m\u001b[1;33m]\u001b[0m\u001b[1;33m\u001b[0m\u001b[1;33m\u001b[0m\u001b[0m\n",
      "\u001b[1;32m~\\Anaconda3\\envs\\codelab\\lib\\site-packages\\pandas\\core\\indexes\\base.py\u001b[0m in \u001b[0;36mget_loc\u001b[1;34m(self, key, method, tolerance)\u001b[0m\n\u001b[0;32m   2897\u001b[0m                 \u001b[1;32mreturn\u001b[0m \u001b[0mself\u001b[0m\u001b[1;33m.\u001b[0m\u001b[0m_engine\u001b[0m\u001b[1;33m.\u001b[0m\u001b[0mget_loc\u001b[0m\u001b[1;33m(\u001b[0m\u001b[0mkey\u001b[0m\u001b[1;33m)\u001b[0m\u001b[1;33m\u001b[0m\u001b[1;33m\u001b[0m\u001b[0m\n\u001b[0;32m   2898\u001b[0m             \u001b[1;32mexcept\u001b[0m \u001b[0mKeyError\u001b[0m\u001b[1;33m:\u001b[0m\u001b[1;33m\u001b[0m\u001b[1;33m\u001b[0m\u001b[0m\n\u001b[1;32m-> 2899\u001b[1;33m                 \u001b[1;32mreturn\u001b[0m \u001b[0mself\u001b[0m\u001b[1;33m.\u001b[0m\u001b[0m_engine\u001b[0m\u001b[1;33m.\u001b[0m\u001b[0mget_loc\u001b[0m\u001b[1;33m(\u001b[0m\u001b[0mself\u001b[0m\u001b[1;33m.\u001b[0m\u001b[0m_maybe_cast_indexer\u001b[0m\u001b[1;33m(\u001b[0m\u001b[0mkey\u001b[0m\u001b[1;33m)\u001b[0m\u001b[1;33m)\u001b[0m\u001b[1;33m\u001b[0m\u001b[1;33m\u001b[0m\u001b[0m\n\u001b[0m\u001b[0;32m   2900\u001b[0m         \u001b[0mindexer\u001b[0m \u001b[1;33m=\u001b[0m \u001b[0mself\u001b[0m\u001b[1;33m.\u001b[0m\u001b[0mget_indexer\u001b[0m\u001b[1;33m(\u001b[0m\u001b[1;33m[\u001b[0m\u001b[0mkey\u001b[0m\u001b[1;33m]\u001b[0m\u001b[1;33m,\u001b[0m \u001b[0mmethod\u001b[0m\u001b[1;33m=\u001b[0m\u001b[0mmethod\u001b[0m\u001b[1;33m,\u001b[0m \u001b[0mtolerance\u001b[0m\u001b[1;33m=\u001b[0m\u001b[0mtolerance\u001b[0m\u001b[1;33m)\u001b[0m\u001b[1;33m\u001b[0m\u001b[1;33m\u001b[0m\u001b[0m\n\u001b[0;32m   2901\u001b[0m         \u001b[1;32mif\u001b[0m \u001b[0mindexer\u001b[0m\u001b[1;33m.\u001b[0m\u001b[0mndim\u001b[0m \u001b[1;33m>\u001b[0m \u001b[1;36m1\u001b[0m \u001b[1;32mor\u001b[0m \u001b[0mindexer\u001b[0m\u001b[1;33m.\u001b[0m\u001b[0msize\u001b[0m \u001b[1;33m>\u001b[0m \u001b[1;36m1\u001b[0m\u001b[1;33m:\u001b[0m\u001b[1;33m\u001b[0m\u001b[1;33m\u001b[0m\u001b[0m\n",
      "\u001b[1;32mpandas/_libs/index.pyx\u001b[0m in \u001b[0;36mpandas._libs.index.IndexEngine.get_loc\u001b[1;34m()\u001b[0m\n",
      "\u001b[1;32mpandas/_libs/index.pyx\u001b[0m in \u001b[0;36mpandas._libs.index.IndexEngine.get_loc\u001b[1;34m()\u001b[0m\n",
      "\u001b[1;32mpandas/_libs/hashtable_class_helper.pxi\u001b[0m in \u001b[0;36mpandas._libs.hashtable.PyObjectHashTable.get_item\u001b[1;34m()\u001b[0m\n",
      "\u001b[1;32mpandas/_libs/hashtable_class_helper.pxi\u001b[0m in \u001b[0;36mpandas._libs.hashtable.PyObjectHashTable.get_item\u001b[1;34m()\u001b[0m\n",
      "\u001b[1;31mKeyError\u001b[0m: 'ColTotal'"
     ]
    }
   ],
   "source": [
    "df['ColTotal']"
   ]
  },
  {
   "cell_type": "code",
   "execution_count": 25,
   "metadata": {},
   "outputs": [
    {
     "data": {
      "text/plain": [
       "0          3\n",
       "1          9\n",
       "2          2\n",
       "3          0\n",
       "4          4\n",
       "5          9\n",
       "6          2\n",
       "7          7\n",
       "RowSum    36\n",
       "Name: 2, dtype: int64"
      ]
     },
     "execution_count": 25,
     "metadata": {},
     "output_type": "execute_result"
    }
   ],
   "source": [
    "df.loc[2, :]"
   ]
  },
  {
   "cell_type": "code",
   "execution_count": 26,
   "metadata": {},
   "outputs": [],
   "source": [
    "df.loc['ColTotal', :] = df.sum()"
   ]
  },
  {
   "cell_type": "code",
   "execution_count": 27,
   "metadata": {},
   "outputs": [
    {
     "data": {
      "text/html": [
       "<div>\n",
       "<style scoped>\n",
       "    .dataframe tbody tr th:only-of-type {\n",
       "        vertical-align: middle;\n",
       "    }\n",
       "\n",
       "    .dataframe tbody tr th {\n",
       "        vertical-align: top;\n",
       "    }\n",
       "\n",
       "    .dataframe thead th {\n",
       "        text-align: right;\n",
       "    }\n",
       "</style>\n",
       "<table border=\"1\" class=\"dataframe\">\n",
       "  <thead>\n",
       "    <tr style=\"text-align: right;\">\n",
       "      <th></th>\n",
       "      <th>0</th>\n",
       "      <th>1</th>\n",
       "      <th>2</th>\n",
       "      <th>3</th>\n",
       "      <th>4</th>\n",
       "      <th>5</th>\n",
       "      <th>6</th>\n",
       "      <th>7</th>\n",
       "      <th>RowSum</th>\n",
       "    </tr>\n",
       "  </thead>\n",
       "  <tbody>\n",
       "    <tr>\n",
       "      <th>0</th>\n",
       "      <td>8.0</td>\n",
       "      <td>3.0</td>\n",
       "      <td>9.0</td>\n",
       "      <td>8.0</td>\n",
       "      <td>7.0</td>\n",
       "      <td>3.0</td>\n",
       "      <td>6.0</td>\n",
       "      <td>5.0</td>\n",
       "      <td>49.0</td>\n",
       "    </tr>\n",
       "    <tr>\n",
       "      <th>1</th>\n",
       "      <td>1.0</td>\n",
       "      <td>9.0</td>\n",
       "      <td>3.0</td>\n",
       "      <td>4.0</td>\n",
       "      <td>8.0</td>\n",
       "      <td>1.0</td>\n",
       "      <td>4.0</td>\n",
       "      <td>0.0</td>\n",
       "      <td>30.0</td>\n",
       "    </tr>\n",
       "    <tr>\n",
       "      <th>2</th>\n",
       "      <td>3.0</td>\n",
       "      <td>9.0</td>\n",
       "      <td>2.0</td>\n",
       "      <td>0.0</td>\n",
       "      <td>4.0</td>\n",
       "      <td>9.0</td>\n",
       "      <td>2.0</td>\n",
       "      <td>7.0</td>\n",
       "      <td>36.0</td>\n",
       "    </tr>\n",
       "    <tr>\n",
       "      <th>3</th>\n",
       "      <td>7.0</td>\n",
       "      <td>9.0</td>\n",
       "      <td>8.0</td>\n",
       "      <td>6.0</td>\n",
       "      <td>9.0</td>\n",
       "      <td>3.0</td>\n",
       "      <td>7.0</td>\n",
       "      <td>7.0</td>\n",
       "      <td>56.0</td>\n",
       "    </tr>\n",
       "    <tr>\n",
       "      <th>ColTotal</th>\n",
       "      <td>19.0</td>\n",
       "      <td>30.0</td>\n",
       "      <td>22.0</td>\n",
       "      <td>18.0</td>\n",
       "      <td>28.0</td>\n",
       "      <td>16.0</td>\n",
       "      <td>19.0</td>\n",
       "      <td>19.0</td>\n",
       "      <td>171.0</td>\n",
       "    </tr>\n",
       "  </tbody>\n",
       "</table>\n",
       "</div>"
      ],
      "text/plain": [
       "             0     1     2     3     4     5     6     7  RowSum\n",
       "0          8.0   3.0   9.0   8.0   7.0   3.0   6.0   5.0    49.0\n",
       "1          1.0   9.0   3.0   4.0   8.0   1.0   4.0   0.0    30.0\n",
       "2          3.0   9.0   2.0   0.0   4.0   9.0   2.0   7.0    36.0\n",
       "3          7.0   9.0   8.0   6.0   9.0   3.0   7.0   7.0    56.0\n",
       "ColTotal  19.0  30.0  22.0  18.0  28.0  16.0  19.0  19.0   171.0"
      ]
     },
     "execution_count": 27,
     "metadata": {},
     "output_type": "execute_result"
    }
   ],
   "source": [
    "df"
   ]
  },
  {
   "cell_type": "code",
   "execution_count": null,
   "metadata": {},
   "outputs": [],
   "source": []
  },
  {
   "cell_type": "code",
   "execution_count": 28,
   "metadata": {},
   "outputs": [],
   "source": [
    "df = pd.DataFrame({\n",
    "    'A':[1, 3, 4, 3, 4],\n",
    "    'B':[2, 3, 1, 2, 3],\n",
    "    'C':[1, 5, 2, 4, 4]\n",
    "})"
   ]
  },
  {
   "cell_type": "code",
   "execution_count": 29,
   "metadata": {},
   "outputs": [
    {
     "data": {
      "text/html": [
       "<div>\n",
       "<style scoped>\n",
       "    .dataframe tbody tr th:only-of-type {\n",
       "        vertical-align: middle;\n",
       "    }\n",
       "\n",
       "    .dataframe tbody tr th {\n",
       "        vertical-align: top;\n",
       "    }\n",
       "\n",
       "    .dataframe thead th {\n",
       "        text-align: right;\n",
       "    }\n",
       "</style>\n",
       "<table border=\"1\" class=\"dataframe\">\n",
       "  <thead>\n",
       "    <tr style=\"text-align: right;\">\n",
       "      <th></th>\n",
       "      <th>A</th>\n",
       "      <th>B</th>\n",
       "      <th>C</th>\n",
       "    </tr>\n",
       "  </thead>\n",
       "  <tbody>\n",
       "    <tr>\n",
       "      <th>0</th>\n",
       "      <td>1</td>\n",
       "      <td>2</td>\n",
       "      <td>1</td>\n",
       "    </tr>\n",
       "    <tr>\n",
       "      <th>1</th>\n",
       "      <td>3</td>\n",
       "      <td>3</td>\n",
       "      <td>5</td>\n",
       "    </tr>\n",
       "    <tr>\n",
       "      <th>2</th>\n",
       "      <td>4</td>\n",
       "      <td>1</td>\n",
       "      <td>2</td>\n",
       "    </tr>\n",
       "    <tr>\n",
       "      <th>3</th>\n",
       "      <td>3</td>\n",
       "      <td>2</td>\n",
       "      <td>4</td>\n",
       "    </tr>\n",
       "    <tr>\n",
       "      <th>4</th>\n",
       "      <td>4</td>\n",
       "      <td>3</td>\n",
       "      <td>4</td>\n",
       "    </tr>\n",
       "  </tbody>\n",
       "</table>\n",
       "</div>"
      ],
      "text/plain": [
       "   A  B  C\n",
       "0  1  2  1\n",
       "1  3  3  5\n",
       "2  4  1  2\n",
       "3  3  2  4\n",
       "4  4  3  4"
      ]
     },
     "execution_count": 29,
     "metadata": {},
     "output_type": "execute_result"
    }
   ],
   "source": [
    "df"
   ]
  },
  {
   "cell_type": "code",
   "execution_count": 30,
   "metadata": {},
   "outputs": [],
   "source": [
    "def num(x):\n",
    "    return x.max() - x.min()"
   ]
  },
  {
   "cell_type": "code",
   "execution_count": 31,
   "metadata": {},
   "outputs": [],
   "source": [
    "result = df.apply(num)"
   ]
  },
  {
   "cell_type": "code",
   "execution_count": 32,
   "metadata": {},
   "outputs": [
    {
     "data": {
      "text/plain": [
       "A    3\n",
       "B    2\n",
       "C    4\n",
       "dtype: int64"
      ]
     },
     "execution_count": 32,
     "metadata": {},
     "output_type": "execute_result"
    }
   ],
   "source": [
    "result"
   ]
  },
  {
   "cell_type": "code",
   "execution_count": 33,
   "metadata": {},
   "outputs": [],
   "source": [
    "result = df.apply(lambda x: x.max() - x.min())"
   ]
  },
  {
   "cell_type": "code",
   "execution_count": 34,
   "metadata": {},
   "outputs": [
    {
     "data": {
      "text/plain": [
       "A    3\n",
       "B    2\n",
       "C    4\n",
       "dtype: int64"
      ]
     },
     "execution_count": 34,
     "metadata": {},
     "output_type": "execute_result"
    }
   ],
   "source": [
    "result"
   ]
  },
  {
   "cell_type": "code",
   "execution_count": 35,
   "metadata": {},
   "outputs": [],
   "source": [
    "result = df.apply(num, axis=1)"
   ]
  },
  {
   "cell_type": "code",
   "execution_count": 36,
   "metadata": {},
   "outputs": [
    {
     "data": {
      "text/plain": [
       "0    1\n",
       "1    2\n",
       "2    3\n",
       "3    2\n",
       "4    1\n",
       "dtype: int64"
      ]
     },
     "execution_count": 36,
     "metadata": {},
     "output_type": "execute_result"
    }
   ],
   "source": [
    "result"
   ]
  },
  {
   "cell_type": "code",
   "execution_count": 37,
   "metadata": {},
   "outputs": [
    {
     "data": {
      "text/html": [
       "<div>\n",
       "<style scoped>\n",
       "    .dataframe tbody tr th:only-of-type {\n",
       "        vertical-align: middle;\n",
       "    }\n",
       "\n",
       "    .dataframe tbody tr th {\n",
       "        vertical-align: top;\n",
       "    }\n",
       "\n",
       "    .dataframe thead th {\n",
       "        text-align: right;\n",
       "    }\n",
       "</style>\n",
       "<table border=\"1\" class=\"dataframe\">\n",
       "  <thead>\n",
       "    <tr style=\"text-align: right;\">\n",
       "      <th></th>\n",
       "      <th>A</th>\n",
       "      <th>B</th>\n",
       "      <th>C</th>\n",
       "    </tr>\n",
       "  </thead>\n",
       "  <tbody>\n",
       "    <tr>\n",
       "      <th>0</th>\n",
       "      <td>1</td>\n",
       "      <td>2</td>\n",
       "      <td>1</td>\n",
       "    </tr>\n",
       "    <tr>\n",
       "      <th>1</th>\n",
       "      <td>3</td>\n",
       "      <td>3</td>\n",
       "      <td>5</td>\n",
       "    </tr>\n",
       "    <tr>\n",
       "      <th>2</th>\n",
       "      <td>4</td>\n",
       "      <td>1</td>\n",
       "      <td>2</td>\n",
       "    </tr>\n",
       "    <tr>\n",
       "      <th>3</th>\n",
       "      <td>3</td>\n",
       "      <td>2</td>\n",
       "      <td>4</td>\n",
       "    </tr>\n",
       "    <tr>\n",
       "      <th>4</th>\n",
       "      <td>4</td>\n",
       "      <td>3</td>\n",
       "      <td>4</td>\n",
       "    </tr>\n",
       "  </tbody>\n",
       "</table>\n",
       "</div>"
      ],
      "text/plain": [
       "   A  B  C\n",
       "0  1  2  1\n",
       "1  3  3  5\n",
       "2  4  1  2\n",
       "3  3  2  4\n",
       "4  4  3  4"
      ]
     },
     "execution_count": 37,
     "metadata": {},
     "output_type": "execute_result"
    }
   ],
   "source": [
    "df"
   ]
  },
  {
   "cell_type": "code",
   "execution_count": 38,
   "metadata": {},
   "outputs": [],
   "source": [
    "result = df.apply(pd.value_counts)"
   ]
  },
  {
   "cell_type": "code",
   "execution_count": 39,
   "metadata": {},
   "outputs": [
    {
     "data": {
      "text/html": [
       "<div>\n",
       "<style scoped>\n",
       "    .dataframe tbody tr th:only-of-type {\n",
       "        vertical-align: middle;\n",
       "    }\n",
       "\n",
       "    .dataframe tbody tr th {\n",
       "        vertical-align: top;\n",
       "    }\n",
       "\n",
       "    .dataframe thead th {\n",
       "        text-align: right;\n",
       "    }\n",
       "</style>\n",
       "<table border=\"1\" class=\"dataframe\">\n",
       "  <thead>\n",
       "    <tr style=\"text-align: right;\">\n",
       "      <th></th>\n",
       "      <th>A</th>\n",
       "      <th>B</th>\n",
       "      <th>C</th>\n",
       "    </tr>\n",
       "  </thead>\n",
       "  <tbody>\n",
       "    <tr>\n",
       "      <th>1</th>\n",
       "      <td>1.0</td>\n",
       "      <td>1.0</td>\n",
       "      <td>1.0</td>\n",
       "    </tr>\n",
       "    <tr>\n",
       "      <th>2</th>\n",
       "      <td>NaN</td>\n",
       "      <td>2.0</td>\n",
       "      <td>1.0</td>\n",
       "    </tr>\n",
       "    <tr>\n",
       "      <th>3</th>\n",
       "      <td>2.0</td>\n",
       "      <td>2.0</td>\n",
       "      <td>NaN</td>\n",
       "    </tr>\n",
       "    <tr>\n",
       "      <th>4</th>\n",
       "      <td>2.0</td>\n",
       "      <td>NaN</td>\n",
       "      <td>2.0</td>\n",
       "    </tr>\n",
       "    <tr>\n",
       "      <th>5</th>\n",
       "      <td>NaN</td>\n",
       "      <td>NaN</td>\n",
       "      <td>1.0</td>\n",
       "    </tr>\n",
       "  </tbody>\n",
       "</table>\n",
       "</div>"
      ],
      "text/plain": [
       "     A    B    C\n",
       "1  1.0  1.0  1.0\n",
       "2  NaN  2.0  1.0\n",
       "3  2.0  2.0  NaN\n",
       "4  2.0  NaN  2.0\n",
       "5  NaN  NaN  1.0"
      ]
     },
     "execution_count": 39,
     "metadata": {},
     "output_type": "execute_result"
    }
   ],
   "source": [
    "result"
   ]
  },
  {
   "cell_type": "code",
   "execution_count": 40,
   "metadata": {},
   "outputs": [],
   "source": [
    "result = df.apply(pd.value_counts).fillna(0)"
   ]
  },
  {
   "cell_type": "code",
   "execution_count": 41,
   "metadata": {},
   "outputs": [
    {
     "data": {
      "text/html": [
       "<div>\n",
       "<style scoped>\n",
       "    .dataframe tbody tr th:only-of-type {\n",
       "        vertical-align: middle;\n",
       "    }\n",
       "\n",
       "    .dataframe tbody tr th {\n",
       "        vertical-align: top;\n",
       "    }\n",
       "\n",
       "    .dataframe thead th {\n",
       "        text-align: right;\n",
       "    }\n",
       "</style>\n",
       "<table border=\"1\" class=\"dataframe\">\n",
       "  <thead>\n",
       "    <tr style=\"text-align: right;\">\n",
       "      <th></th>\n",
       "      <th>A</th>\n",
       "      <th>B</th>\n",
       "      <th>C</th>\n",
       "    </tr>\n",
       "  </thead>\n",
       "  <tbody>\n",
       "    <tr>\n",
       "      <th>1</th>\n",
       "      <td>1.0</td>\n",
       "      <td>1.0</td>\n",
       "      <td>1.0</td>\n",
       "    </tr>\n",
       "    <tr>\n",
       "      <th>2</th>\n",
       "      <td>0.0</td>\n",
       "      <td>2.0</td>\n",
       "      <td>1.0</td>\n",
       "    </tr>\n",
       "    <tr>\n",
       "      <th>3</th>\n",
       "      <td>2.0</td>\n",
       "      <td>2.0</td>\n",
       "      <td>0.0</td>\n",
       "    </tr>\n",
       "    <tr>\n",
       "      <th>4</th>\n",
       "      <td>2.0</td>\n",
       "      <td>0.0</td>\n",
       "      <td>2.0</td>\n",
       "    </tr>\n",
       "    <tr>\n",
       "      <th>5</th>\n",
       "      <td>0.0</td>\n",
       "      <td>0.0</td>\n",
       "      <td>1.0</td>\n",
       "    </tr>\n",
       "  </tbody>\n",
       "</table>\n",
       "</div>"
      ],
      "text/plain": [
       "     A    B    C\n",
       "1  1.0  1.0  1.0\n",
       "2  0.0  2.0  1.0\n",
       "3  2.0  2.0  0.0\n",
       "4  2.0  0.0  2.0\n",
       "5  0.0  0.0  1.0"
      ]
     },
     "execution_count": 41,
     "metadata": {},
     "output_type": "execute_result"
    }
   ],
   "source": [
    "result"
   ]
  },
  {
   "cell_type": "code",
   "execution_count": null,
   "metadata": {},
   "outputs": [],
   "source": [
    "# 결측치 제거 -> 데이터 전처리"
   ]
  },
  {
   "cell_type": "code",
   "execution_count": 46,
   "metadata": {},
   "outputs": [],
   "source": [
    "result = df.apply(pd.value_counts).fillna(0).astype(int)"
   ]
  },
  {
   "cell_type": "code",
   "execution_count": 47,
   "metadata": {},
   "outputs": [
    {
     "data": {
      "text/html": [
       "<div>\n",
       "<style scoped>\n",
       "    .dataframe tbody tr th:only-of-type {\n",
       "        vertical-align: middle;\n",
       "    }\n",
       "\n",
       "    .dataframe tbody tr th {\n",
       "        vertical-align: top;\n",
       "    }\n",
       "\n",
       "    .dataframe thead th {\n",
       "        text-align: right;\n",
       "    }\n",
       "</style>\n",
       "<table border=\"1\" class=\"dataframe\">\n",
       "  <thead>\n",
       "    <tr style=\"text-align: right;\">\n",
       "      <th></th>\n",
       "      <th>A</th>\n",
       "      <th>B</th>\n",
       "      <th>C</th>\n",
       "    </tr>\n",
       "  </thead>\n",
       "  <tbody>\n",
       "    <tr>\n",
       "      <th>1</th>\n",
       "      <td>1</td>\n",
       "      <td>1</td>\n",
       "      <td>1</td>\n",
       "    </tr>\n",
       "    <tr>\n",
       "      <th>2</th>\n",
       "      <td>0</td>\n",
       "      <td>2</td>\n",
       "      <td>1</td>\n",
       "    </tr>\n",
       "    <tr>\n",
       "      <th>3</th>\n",
       "      <td>2</td>\n",
       "      <td>2</td>\n",
       "      <td>0</td>\n",
       "    </tr>\n",
       "    <tr>\n",
       "      <th>4</th>\n",
       "      <td>2</td>\n",
       "      <td>0</td>\n",
       "      <td>2</td>\n",
       "    </tr>\n",
       "    <tr>\n",
       "      <th>5</th>\n",
       "      <td>0</td>\n",
       "      <td>0</td>\n",
       "      <td>1</td>\n",
       "    </tr>\n",
       "  </tbody>\n",
       "</table>\n",
       "</div>"
      ],
      "text/plain": [
       "   A  B  C\n",
       "1  1  1  1\n",
       "2  0  2  1\n",
       "3  2  2  0\n",
       "4  2  0  2\n",
       "5  0  0  1"
      ]
     },
     "execution_count": 47,
     "metadata": {},
     "output_type": "execute_result"
    }
   ],
   "source": [
    "result"
   ]
  },
  {
   "cell_type": "code",
   "execution_count": 48,
   "metadata": {},
   "outputs": [],
   "source": [
    "ages = [0, 2, 10, 21, 23, 37, 31, 61, 20, 41, 32, 100]"
   ]
  },
  {
   "cell_type": "code",
   "execution_count": 49,
   "metadata": {},
   "outputs": [
    {
     "data": {
      "text/plain": [
       "[0, 2, 10, 21, 23, 37, 31, 61, 20, 41, 32, 100]"
      ]
     },
     "execution_count": 49,
     "metadata": {},
     "output_type": "execute_result"
    }
   ],
   "source": [
    "ages"
   ]
  },
  {
   "cell_type": "code",
   "execution_count": 59,
   "metadata": {},
   "outputs": [],
   "source": [
    "bins = [1, 15, 25, 35, 60, 90]"
   ]
  },
  {
   "cell_type": "code",
   "execution_count": 51,
   "metadata": {},
   "outputs": [
    {
     "data": {
      "text/plain": [
       "[1, 15, 25, 35, 60, 90]"
      ]
     },
     "execution_count": 51,
     "metadata": {},
     "output_type": "execute_result"
    }
   ],
   "source": [
    "bins"
   ]
  },
  {
   "cell_type": "code",
   "execution_count": 52,
   "metadata": {},
   "outputs": [],
   "source": [
    "labels = ['미성년자', '청년', '중년', '장년', '노년']"
   ]
  },
  {
   "cell_type": "code",
   "execution_count": 53,
   "metadata": {},
   "outputs": [
    {
     "data": {
      "text/plain": [
       "['미성년자', '청년', '중년', '장년', '노년']"
      ]
     },
     "execution_count": 53,
     "metadata": {},
     "output_type": "execute_result"
    }
   ],
   "source": [
    "labels"
   ]
  },
  {
   "cell_type": "code",
   "execution_count": 60,
   "metadata": {},
   "outputs": [],
   "source": [
    "result = pd.cut(ages, bins=bins, labels=labels)"
   ]
  },
  {
   "cell_type": "code",
   "execution_count": 61,
   "metadata": {},
   "outputs": [
    {
     "data": {
      "text/plain": [
       "[NaN, 미성년자, 미성년자, 청년, 청년, ..., 노년, 청년, 장년, 중년, NaN]\n",
       "Length: 12\n",
       "Categories (5, object): [미성년자 < 청년 < 중년 < 장년 < 노년]"
      ]
     },
     "execution_count": 61,
     "metadata": {},
     "output_type": "execute_result"
    }
   ],
   "source": [
    "result"
   ]
  },
  {
   "cell_type": "code",
   "execution_count": 62,
   "metadata": {},
   "outputs": [
    {
     "data": {
      "text/plain": [
       "pandas.core.arrays.categorical.Categorical"
      ]
     },
     "execution_count": 62,
     "metadata": {},
     "output_type": "execute_result"
    }
   ],
   "source": [
    "type(result)"
   ]
  },
  {
   "cell_type": "code",
   "execution_count": 63,
   "metadata": {},
   "outputs": [
    {
     "data": {
      "text/plain": [
       "Index(['미성년자', '청년', '중년', '장년', '노년'], dtype='object')"
      ]
     },
     "execution_count": 63,
     "metadata": {},
     "output_type": "execute_result"
    }
   ],
   "source": [
    "result.categories"
   ]
  },
  {
   "cell_type": "code",
   "execution_count": 64,
   "metadata": {},
   "outputs": [
    {
     "data": {
      "text/plain": [
       "array([-1,  0,  0,  1,  1,  3,  2,  4,  1,  3,  2, -1], dtype=int8)"
      ]
     },
     "execution_count": 64,
     "metadata": {},
     "output_type": "execute_result"
    }
   ],
   "source": [
    "result.codes"
   ]
  },
  {
   "cell_type": "code",
   "execution_count": null,
   "metadata": {},
   "outputs": [],
   "source": []
  },
  {
   "cell_type": "code",
   "execution_count": 65,
   "metadata": {},
   "outputs": [],
   "source": [
    "df = pd.DataFrame(ages, columns=['ages'])"
   ]
  },
  {
   "cell_type": "code",
   "execution_count": 66,
   "metadata": {},
   "outputs": [
    {
     "data": {
      "text/html": [
       "<div>\n",
       "<style scoped>\n",
       "    .dataframe tbody tr th:only-of-type {\n",
       "        vertical-align: middle;\n",
       "    }\n",
       "\n",
       "    .dataframe tbody tr th {\n",
       "        vertical-align: top;\n",
       "    }\n",
       "\n",
       "    .dataframe thead th {\n",
       "        text-align: right;\n",
       "    }\n",
       "</style>\n",
       "<table border=\"1\" class=\"dataframe\">\n",
       "  <thead>\n",
       "    <tr style=\"text-align: right;\">\n",
       "      <th></th>\n",
       "      <th>ages</th>\n",
       "    </tr>\n",
       "  </thead>\n",
       "  <tbody>\n",
       "    <tr>\n",
       "      <th>0</th>\n",
       "      <td>0</td>\n",
       "    </tr>\n",
       "    <tr>\n",
       "      <th>1</th>\n",
       "      <td>2</td>\n",
       "    </tr>\n",
       "    <tr>\n",
       "      <th>2</th>\n",
       "      <td>10</td>\n",
       "    </tr>\n",
       "    <tr>\n",
       "      <th>3</th>\n",
       "      <td>21</td>\n",
       "    </tr>\n",
       "    <tr>\n",
       "      <th>4</th>\n",
       "      <td>23</td>\n",
       "    </tr>\n",
       "    <tr>\n",
       "      <th>5</th>\n",
       "      <td>37</td>\n",
       "    </tr>\n",
       "    <tr>\n",
       "      <th>6</th>\n",
       "      <td>31</td>\n",
       "    </tr>\n",
       "    <tr>\n",
       "      <th>7</th>\n",
       "      <td>61</td>\n",
       "    </tr>\n",
       "    <tr>\n",
       "      <th>8</th>\n",
       "      <td>20</td>\n",
       "    </tr>\n",
       "    <tr>\n",
       "      <th>9</th>\n",
       "      <td>41</td>\n",
       "    </tr>\n",
       "    <tr>\n",
       "      <th>10</th>\n",
       "      <td>32</td>\n",
       "    </tr>\n",
       "    <tr>\n",
       "      <th>11</th>\n",
       "      <td>100</td>\n",
       "    </tr>\n",
       "  </tbody>\n",
       "</table>\n",
       "</div>"
      ],
      "text/plain": [
       "    ages\n",
       "0      0\n",
       "1      2\n",
       "2     10\n",
       "3     21\n",
       "4     23\n",
       "5     37\n",
       "6     31\n",
       "7     61\n",
       "8     20\n",
       "9     41\n",
       "10    32\n",
       "11   100"
      ]
     },
     "execution_count": 66,
     "metadata": {},
     "output_type": "execute_result"
    }
   ],
   "source": [
    "df"
   ]
  },
  {
   "cell_type": "code",
   "execution_count": 67,
   "metadata": {},
   "outputs": [
    {
     "data": {
      "text/plain": [
       "0       0\n",
       "1       2\n",
       "2      10\n",
       "3      21\n",
       "4      23\n",
       "5      37\n",
       "6      31\n",
       "7      61\n",
       "8      20\n",
       "9      41\n",
       "10     32\n",
       "11    100\n",
       "Name: ages, dtype: int64"
      ]
     },
     "execution_count": 67,
     "metadata": {},
     "output_type": "execute_result"
    }
   ],
   "source": [
    "df.ages"
   ]
  },
  {
   "cell_type": "code",
   "execution_count": 68,
   "metadata": {},
   "outputs": [],
   "source": [
    "df['age_cat'] = pd.cut(df.ages, bins=bins, labels=labels)"
   ]
  },
  {
   "cell_type": "code",
   "execution_count": 69,
   "metadata": {},
   "outputs": [
    {
     "data": {
      "text/html": [
       "<div>\n",
       "<style scoped>\n",
       "    .dataframe tbody tr th:only-of-type {\n",
       "        vertical-align: middle;\n",
       "    }\n",
       "\n",
       "    .dataframe tbody tr th {\n",
       "        vertical-align: top;\n",
       "    }\n",
       "\n",
       "    .dataframe thead th {\n",
       "        text-align: right;\n",
       "    }\n",
       "</style>\n",
       "<table border=\"1\" class=\"dataframe\">\n",
       "  <thead>\n",
       "    <tr style=\"text-align: right;\">\n",
       "      <th></th>\n",
       "      <th>ages</th>\n",
       "      <th>age_cat</th>\n",
       "    </tr>\n",
       "  </thead>\n",
       "  <tbody>\n",
       "    <tr>\n",
       "      <th>0</th>\n",
       "      <td>0</td>\n",
       "      <td>NaN</td>\n",
       "    </tr>\n",
       "    <tr>\n",
       "      <th>1</th>\n",
       "      <td>2</td>\n",
       "      <td>미성년자</td>\n",
       "    </tr>\n",
       "    <tr>\n",
       "      <th>2</th>\n",
       "      <td>10</td>\n",
       "      <td>미성년자</td>\n",
       "    </tr>\n",
       "    <tr>\n",
       "      <th>3</th>\n",
       "      <td>21</td>\n",
       "      <td>청년</td>\n",
       "    </tr>\n",
       "    <tr>\n",
       "      <th>4</th>\n",
       "      <td>23</td>\n",
       "      <td>청년</td>\n",
       "    </tr>\n",
       "    <tr>\n",
       "      <th>5</th>\n",
       "      <td>37</td>\n",
       "      <td>장년</td>\n",
       "    </tr>\n",
       "    <tr>\n",
       "      <th>6</th>\n",
       "      <td>31</td>\n",
       "      <td>중년</td>\n",
       "    </tr>\n",
       "    <tr>\n",
       "      <th>7</th>\n",
       "      <td>61</td>\n",
       "      <td>노년</td>\n",
       "    </tr>\n",
       "    <tr>\n",
       "      <th>8</th>\n",
       "      <td>20</td>\n",
       "      <td>청년</td>\n",
       "    </tr>\n",
       "    <tr>\n",
       "      <th>9</th>\n",
       "      <td>41</td>\n",
       "      <td>장년</td>\n",
       "    </tr>\n",
       "    <tr>\n",
       "      <th>10</th>\n",
       "      <td>32</td>\n",
       "      <td>중년</td>\n",
       "    </tr>\n",
       "    <tr>\n",
       "      <th>11</th>\n",
       "      <td>100</td>\n",
       "      <td>NaN</td>\n",
       "    </tr>\n",
       "  </tbody>\n",
       "</table>\n",
       "</div>"
      ],
      "text/plain": [
       "    ages age_cat\n",
       "0      0     NaN\n",
       "1      2    미성년자\n",
       "2     10    미성년자\n",
       "3     21      청년\n",
       "4     23      청년\n",
       "5     37      장년\n",
       "6     31      중년\n",
       "7     61      노년\n",
       "8     20      청년\n",
       "9     41      장년\n",
       "10    32      중년\n",
       "11   100     NaN"
      ]
     },
     "execution_count": 69,
     "metadata": {},
     "output_type": "execute_result"
    }
   ],
   "source": [
    "df"
   ]
  },
  {
   "cell_type": "code",
   "execution_count": 70,
   "metadata": {},
   "outputs": [],
   "source": [
    "data = np.random.randn(1000)"
   ]
  },
  {
   "cell_type": "code",
   "execution_count": 71,
   "metadata": {},
   "outputs": [
    {
     "data": {
      "text/plain": [
       "array([ 6.77097876e-02, -1.03890593e+00, -2.63677447e-01,  5.38250569e-01,\n",
       "        1.52826025e+00,  1.95667685e+00,  4.78200352e-01,  1.19345210e-01,\n",
       "       -8.57465206e-01, -7.61947804e-01,  6.39304899e-01,  4.75260532e-02,\n",
       "        3.11483365e+00, -5.32461593e-01,  3.45583676e-01, -4.25514043e-01,\n",
       "       -2.23877138e+00,  1.75539696e+00, -2.64193363e-01,  8.46294467e-01,\n",
       "        2.08673250e+00,  5.26478312e-01,  9.83809002e-01, -1.92220001e+00,\n",
       "       -8.94825229e-01,  3.30062822e-01,  1.04859100e+00,  1.34989935e+00,\n",
       "        1.24567511e+00, -6.91191472e-01,  1.28107338e+00, -7.27064310e-01,\n",
       "       -7.99168694e-01, -3.54562185e-03,  5.12594636e-01, -1.67860864e-01,\n",
       "        1.34633628e+00, -6.15491978e-01, -7.43036696e-01,  1.01593613e+00,\n",
       "       -5.55155414e-01,  4.36259361e-01, -1.46689715e-01,  2.34928244e-02,\n",
       "       -2.58302186e-01,  1.83915619e+00, -1.93989588e-01,  1.57413147e+00,\n",
       "        7.56900469e-01, -5.27124266e-01, -7.53429475e-01,  8.99466368e-02,\n",
       "        1.68171225e+00, -1.90674514e-01, -1.59084396e-01, -1.37313100e+00,\n",
       "        4.80326180e-02, -1.57033298e+00, -1.29522304e+00,  7.45459948e-02,\n",
       "       -8.81953183e-01, -2.32905616e-01, -9.55098695e-01,  2.35501724e-02,\n",
       "       -9.70284644e-01, -7.64250928e-01, -2.65145400e-01, -1.72921720e-01,\n",
       "       -1.88350072e+00,  1.60795712e+00,  1.14530242e+00, -4.83584310e-01,\n",
       "        1.01940357e+00, -9.85867909e-01, -1.24495588e+00,  1.92386177e+00,\n",
       "       -4.42950738e-01,  1.54552413e+00, -1.91843645e+00, -9.94918356e-01,\n",
       "       -4.08052159e-01,  1.02302197e-01, -8.66622178e-01,  3.61235615e-01,\n",
       "       -9.37864329e-01, -1.38565630e+00, -3.38880544e-01, -1.79255436e-01,\n",
       "       -2.40947274e-01, -2.47698558e-01, -1.68519940e-01,  5.73709220e-01,\n",
       "       -9.56773183e-01, -6.51522547e-01,  7.19275136e-01,  1.23439948e+00,\n",
       "       -2.66467637e-01,  1.56464899e+00, -9.83560388e-01,  8.01283001e-02,\n",
       "        2.91628062e-02, -1.17453467e+00, -1.09328473e+00, -1.12522158e-01,\n",
       "       -7.32526181e-01,  6.73813445e-01, -4.34909282e-01, -1.02350373e+00,\n",
       "        1.27566857e-01,  7.17941211e-01,  3.88936207e-01,  1.07144178e+00,\n",
       "        1.17822245e+00, -9.06784503e-01,  1.71577556e+00,  1.64734226e-01,\n",
       "        5.03073192e-01, -8.99854326e-01,  1.63186328e+00, -5.22558901e-01,\n",
       "       -5.71823192e-01,  1.43158861e+00, -8.42548711e-01, -5.19846453e-01,\n",
       "       -4.22628172e-02, -4.19030832e-01, -4.96428283e-01,  1.16292672e+00,\n",
       "       -4.14937954e-01,  9.74178282e-02, -6.40021526e-01, -2.20825889e-01,\n",
       "        5.51747808e-01, -4.83849242e-02, -3.46629252e-01, -2.05885731e+00,\n",
       "        7.58414559e-03, -9.72971893e-01,  8.97721017e-02,  1.00718061e+00,\n",
       "       -8.89447223e-01, -1.33661913e+00, -2.56750500e-01,  3.93581735e-01,\n",
       "       -1.89597116e+00, -8.63818625e-01, -1.01950067e+00,  2.10377522e-01,\n",
       "       -1.23658928e-01,  2.98578898e-01,  5.76988854e-01, -3.98560936e-01,\n",
       "        6.75655442e-01, -5.67652685e-01, -1.36051114e+00,  1.93440208e-01,\n",
       "       -5.62863515e-01,  1.10663491e-01,  1.42363424e+00, -1.86200857e+00,\n",
       "        3.27124216e-01,  4.20124825e-01, -3.06655678e-01, -1.80066252e-01,\n",
       "       -4.24890190e-01, -5.00559570e-01, -1.80976760e+00, -9.81668680e-01,\n",
       "        1.06709952e+00,  1.07992861e+00,  1.76001144e-01,  1.27168722e-01,\n",
       "       -2.17376077e+00, -5.05864028e-01, -1.08776651e+00,  9.31503897e-02,\n",
       "       -1.23150894e+00,  2.27857531e-01,  1.75639328e+00, -7.50583851e-01,\n",
       "       -3.62076456e-01,  1.31745164e-02,  3.74318903e-01, -1.84955116e+00,\n",
       "       -2.78105080e-01,  3.17846928e-01, -3.58761032e-01, -4.19394439e-02,\n",
       "        1.25794105e+00,  6.28349953e-01, -1.00292632e+00,  7.87977962e-01,\n",
       "       -1.05711954e+00,  5.42157275e-01,  9.19409489e-01,  5.07341760e-02,\n",
       "        1.20135336e+00, -8.60185340e-02, -1.48136576e-01,  1.39126270e-01,\n",
       "       -1.90290863e+00,  2.33014207e+00, -3.06265534e-01, -1.45606357e+00,\n",
       "       -2.07490519e+00, -2.45453207e-01,  2.97899625e-03, -2.67746355e-01,\n",
       "       -4.03781744e-01,  1.57271799e-01,  3.38935150e-01, -1.10423149e+00,\n",
       "        7.03065899e-01, -3.25459707e-01, -6.39747768e-01,  6.57576283e-01,\n",
       "        6.16191040e-01, -1.02376670e+00,  3.68526058e-02, -1.22278943e+00,\n",
       "       -9.85101420e-01,  1.11835850e+00, -7.36954885e-01, -1.88204035e-01,\n",
       "       -1.21377262e+00,  5.04700154e-01, -1.49223190e+00,  1.04563105e+00,\n",
       "       -5.24546592e-01,  1.45139811e+00,  6.95720010e-01,  1.66543200e+00,\n",
       "       -1.06206018e+00, -7.23127016e-01,  1.10527788e+00,  6.82905659e-01,\n",
       "        2.40329256e+00,  2.63998469e-01, -7.02033323e-02, -5.91758959e-01,\n",
       "       -8.71826855e-02,  2.90534678e-01, -2.14118422e+00,  1.30511620e+00,\n",
       "       -1.84350666e-01,  1.36152413e+00,  8.75541183e-02,  9.99295136e-01,\n",
       "        7.95154260e-01,  1.47184031e-01,  1.13060713e+00, -9.29197468e-01,\n",
       "       -9.13790494e-02,  1.39900998e+00,  1.23346365e+00, -4.48919484e-02,\n",
       "       -1.68116081e+00,  4.05663308e-01, -1.78632351e+00, -1.05649644e-01,\n",
       "        6.48753909e-01, -1.21396425e+00, -9.33050978e-02,  1.03655593e+00,\n",
       "       -9.44716562e-01,  1.07819139e+00, -1.44463614e+00, -5.35912386e-02,\n",
       "        1.48726486e+00,  1.54969799e-02, -1.49549449e-01,  2.15200077e-01,\n",
       "       -8.86817583e-01,  8.71929193e-01, -1.06582946e+00,  1.86183590e-01,\n",
       "       -7.05785383e-01, -2.16420538e-01,  1.94257856e+00,  5.72183155e-02,\n",
       "       -2.12389802e+00, -6.58672544e-01, -8.29595821e-01, -2.24360505e+00,\n",
       "        4.11349989e-01,  2.36717914e-01,  8.25024902e-01, -5.77924164e-01,\n",
       "        6.56585459e-01,  1.49311894e+00,  8.12225881e-01,  1.74150272e+00,\n",
       "       -1.90151533e+00,  1.00589085e+00,  1.11132352e+00, -3.73100869e-01,\n",
       "        5.04495373e-02,  2.84979601e-01, -6.14650177e-01,  2.53933667e-01,\n",
       "        9.14104752e-01,  1.58030453e+00, -3.13389919e-01, -5.62703423e-01,\n",
       "        3.45924673e-01,  2.44894176e-01,  1.83025134e+00,  8.99336249e-02,\n",
       "        1.92233767e-01, -7.03921757e-01,  4.98901154e-01,  8.59827041e-01,\n",
       "        1.10741960e+00,  1.68813844e-01, -8.59943442e-01,  8.95994944e-01,\n",
       "       -1.66950544e-01,  2.25389089e+00,  4.13795281e-01,  9.74208593e-01,\n",
       "       -1.61996843e+00,  6.34724390e-01,  1.55898350e+00,  9.36729600e-03,\n",
       "       -4.82401751e-01,  8.49752525e-01,  2.17738097e+00, -2.27505031e-01,\n",
       "       -4.38126203e-01, -8.03277846e-01, -1.74192772e+00,  1.13803810e-01,\n",
       "       -5.54601875e-03,  1.04596680e+00,  7.24390609e-01, -3.05690577e-01,\n",
       "        5.46687344e-01, -5.05485058e-01,  8.34979573e-02,  1.24110505e+00,\n",
       "       -1.91175776e+00,  1.17312842e+00, -8.93568304e-01,  3.38288119e-01,\n",
       "       -1.73604562e+00, -1.12799062e+00,  7.11247605e-02, -6.96025752e-02,\n",
       "       -2.23381681e-01, -1.22826971e+00, -2.45743268e+00, -5.25122546e-01,\n",
       "        3.69591287e-01, -4.79215807e-01,  3.20387902e-01, -1.23621312e+00,\n",
       "       -1.19629165e+00, -1.64680135e-01,  1.04030166e+00, -7.71152364e-01,\n",
       "        1.44223981e+00,  8.67152725e-01, -3.57448008e-01,  7.53297054e-01,\n",
       "        5.08989092e-01,  1.16823363e-01, -1.30767997e+00, -3.62097673e-01,\n",
       "        4.07148403e-01, -1.08948924e+00, -1.60973686e-01, -4.16600863e-01,\n",
       "        3.98601546e-01, -1.35855463e+00,  2.05943720e+00, -1.09201350e+00,\n",
       "       -7.16362752e-01, -3.32300127e-01, -1.38895930e-01, -1.25196105e+00,\n",
       "       -3.63973709e-01,  1.06553039e-01,  5.68711834e-01, -3.79014161e-01,\n",
       "        7.59898153e-01,  3.88498817e-01, -1.18275248e+00, -1.65597356e+00,\n",
       "        4.26511632e-01, -4.42153419e-02,  1.04696169e+00,  8.17129411e-01,\n",
       "       -1.05611465e+00,  2.24794811e-01,  7.43414831e-01, -1.89985895e+00,\n",
       "       -7.51701769e-01,  2.19933511e+00, -5.87082177e-01,  7.29612427e-01,\n",
       "        1.31703107e+00, -3.32840856e-01, -1.60265997e+00,  3.05477216e-01,\n",
       "        6.48279788e-01, -1.40074067e+00,  1.74165041e-01, -1.70798417e+00,\n",
       "       -4.00007220e-01, -1.03250043e-01, -1.74018277e-01,  1.19507265e+00,\n",
       "       -3.80923568e-01, -4.04331665e-01, -1.72908188e+00,  3.14113043e-01,\n",
       "        1.74182525e+00, -5.01211813e-02,  1.27920504e+00,  1.07722202e+00,\n",
       "        5.10803988e-01, -9.12729767e-01,  1.66487592e+00,  1.09376856e+00,\n",
       "       -7.70791909e-01,  3.16792950e-02, -1.68700299e+00, -2.89304254e+00,\n",
       "       -8.20883117e-01,  2.42389179e-01,  1.30224076e+00, -5.92410346e-01,\n",
       "        6.69243495e-01, -1.42893564e-01, -2.45985850e+00,  1.49994395e+00,\n",
       "       -1.18168017e+00, -1.29721439e+00, -6.89464949e-02, -6.07107739e-01,\n",
       "        4.53924117e-01, -2.05038786e-01, -1.30091148e-01, -4.23264389e-01,\n",
       "        1.11400548e+00, -6.20120760e-01, -2.25318428e-01,  1.64274500e+00,\n",
       "       -4.09339776e-01,  1.72906847e+00, -1.34786341e+00,  3.45161852e-01,\n",
       "        7.45539363e-01,  4.73319733e-01,  1.97059890e+00,  1.26917147e+00,\n",
       "        1.34228967e+00,  4.74390968e-01,  5.31052027e-01,  2.35921916e-01,\n",
       "        5.58254076e-02, -7.64142661e-01, -1.80642920e+00,  1.34007037e+00,\n",
       "       -3.51742296e-01, -1.65681784e+00,  1.18717645e+00,  1.63329506e-01,\n",
       "       -5.82804172e-01,  7.70922496e-01,  1.25201178e+00, -1.00575818e+00,\n",
       "       -1.15929473e+00,  5.93699514e-01, -8.34094116e-01, -1.72348018e-01,\n",
       "       -8.55863965e-01, -7.53456660e-01,  1.03002026e-01,  1.27317655e+00,\n",
       "       -1.24544161e+00, -2.95469137e-01,  7.82797959e-01,  1.61406496e+00,\n",
       "       -2.21947407e-01, -1.13676697e-01, -9.49895144e-01,  1.37243021e+00,\n",
       "        2.14475653e-01,  1.77496540e+00, -2.59964225e-01, -7.33566035e-01,\n",
       "       -5.46358531e-01, -5.62600899e-01,  3.07569024e-01, -8.96216820e-01,\n",
       "       -7.63368426e-01, -6.34524034e-02,  1.65238782e+00,  1.57299576e+00,\n",
       "       -1.28517234e+00, -8.07502638e-01,  6.14801420e-01, -2.83442944e-01,\n",
       "        1.61352054e+00, -7.42868587e-01, -1.96247474e+00,  1.98912744e+00,\n",
       "       -9.48970704e-01, -8.85184453e-02, -1.60500577e-01,  5.97091576e-01,\n",
       "        2.06149211e+00, -2.15417414e-01,  6.26780507e-01,  9.40858338e-02,\n",
       "        4.38951770e-01,  7.69891883e-01,  4.31774107e-01, -1.15740031e+00,\n",
       "       -7.00444441e-01,  9.29866090e-02,  1.10590209e+00, -1.87040408e-01,\n",
       "        1.89204817e+00, -1.54131542e+00,  3.22154526e-01,  1.01080774e+00,\n",
       "        1.24569650e+00,  1.20029612e-01, -8.27481032e-01,  1.17325812e+00,\n",
       "        7.43997752e-01, -1.22907369e+00, -6.59380095e-01,  1.66065875e-01,\n",
       "        7.31856273e-01, -2.28103590e+00,  3.17652832e-01, -1.44822130e+00,\n",
       "        4.10444337e-01, -7.19095660e-01, -7.62958870e-01, -4.46419576e-01,\n",
       "       -9.30668504e-01,  3.95848786e-01,  2.26991733e-01, -9.43502862e-02,\n",
       "       -9.21556946e-01,  5.77576331e-02, -2.63337881e-01, -1.09705417e+00,\n",
       "       -1.80357915e+00,  2.05809801e-01, -3.03639629e-01, -1.67821411e+00,\n",
       "        1.50676633e+00, -6.81425296e-01,  5.74622327e-01, -1.51575752e+00,\n",
       "       -2.13174614e-01, -5.32298960e-01,  3.42086734e-01, -1.58645873e+00,\n",
       "       -1.00732775e+00,  2.67764309e+00,  7.18301939e-01, -8.26775273e-02,\n",
       "       -5.13677800e-01, -1.24616754e-01, -4.38768002e-01, -1.58919370e+00,\n",
       "        3.68750012e-01, -1.82591438e+00,  3.12024018e-01,  1.99916603e-01,\n",
       "        3.54441996e-01,  1.48443325e+00, -2.77343001e-01, -1.22587128e+00,\n",
       "        2.61803247e+00, -2.15729912e+00, -1.23954959e+00,  1.38052323e-01,\n",
       "       -1.27573887e+00,  6.67742860e-01, -3.52650982e-01, -1.08657154e+00,\n",
       "       -1.26855934e+00,  1.00792598e-02,  1.33428865e+00,  2.44715733e-01,\n",
       "        3.65815300e-01, -4.83129014e-01,  1.27498447e+00, -1.06158528e+00,\n",
       "        1.00192061e+00,  4.95379627e-01,  1.86771880e-01,  1.17567444e+00,\n",
       "       -1.68442095e-02,  2.05892183e+00, -1.38425869e+00,  3.79154467e-02,\n",
       "        2.75997946e-01,  3.17659168e-01, -2.24200125e-01,  1.12809073e-01,\n",
       "        2.45028907e+00, -1.82240951e+00,  7.88957013e-01,  1.14623602e-01,\n",
       "       -5.32781904e-01,  1.84200981e-01, -8.23322868e-02, -1.93819167e+00,\n",
       "       -1.71051361e+00, -8.30703209e-01, -7.30943095e-01, -1.95866917e-02,\n",
       "       -4.09501291e-01,  2.58778760e-01,  8.38085084e-01,  1.74672931e-01,\n",
       "        1.37344024e+00,  1.19607776e+00,  2.68100257e-01,  1.55237415e+00,\n",
       "       -8.77470014e-01, -4.02306783e-04,  3.06365368e-01, -1.07915523e+00,\n",
       "        1.54482278e+00, -5.72645118e-01,  6.64711007e-01,  2.15608586e-01,\n",
       "       -1.11430061e+00,  7.14626397e-01,  4.87723676e-01, -2.81744027e+00,\n",
       "        1.07921283e+00,  5.17738469e-01, -6.92985532e-01, -2.94533391e-01,\n",
       "        1.06355830e+00,  4.74480737e-01, -1.19675236e+00, -6.10907411e-01,\n",
       "       -1.52846615e+00, -1.35474523e-01,  1.35897227e+00, -7.54189382e-01,\n",
       "       -7.70531679e-01, -7.05601894e-02,  1.06822841e+00, -1.59995388e+00,\n",
       "        7.24603072e-01,  3.96629248e-01,  5.86928084e-01,  4.02483737e-01,\n",
       "       -2.20361742e-01,  8.67184311e-01, -2.04411297e+00, -1.11734083e+00,\n",
       "       -5.28390933e-01, -4.12307474e-01,  5.73002530e-01, -6.85983757e-01,\n",
       "       -5.47294323e-01, -1.06460395e+00,  1.57870759e+00,  9.03284508e-01,\n",
       "       -1.47082208e+00, -7.13733814e-01, -1.38738280e-01,  3.15186522e-01,\n",
       "       -1.62264548e+00,  1.81803616e+00, -9.47538470e-01, -1.79844804e+00,\n",
       "        5.45441179e-01,  3.92422170e-01, -1.86135850e+00,  1.40516065e-01,\n",
       "        8.51104101e-01,  8.91938682e-01,  7.74428555e-01, -4.31956443e-01,\n",
       "        1.12261014e+00, -6.03973627e-01, -1.68199951e+00, -1.80224514e-01,\n",
       "       -6.49813108e-01, -1.48777763e+00, -8.58263745e-01,  1.13360133e+00,\n",
       "        1.16805280e+00, -1.46099185e-02, -1.97608263e-01, -2.88163214e-01,\n",
       "       -9.50545175e-01, -3.76087210e-01, -5.61199292e-01,  1.25327256e+00,\n",
       "        1.14824624e-01, -2.24572399e-01, -1.62792724e-01, -2.18428501e+00,\n",
       "        3.76049433e-01,  1.81704491e+00,  8.29520924e-01, -8.20949611e-01,\n",
       "        6.60250181e-01, -1.08955261e-01, -8.38565737e-01, -4.29040015e-02,\n",
       "       -1.12759279e+00, -2.52176933e-01,  1.94162999e+00,  6.72724529e-01,\n",
       "       -1.44567343e-01,  3.98492870e-01,  1.07143404e+00,  2.40222228e-02,\n",
       "        7.56220491e-01, -1.27006532e+00, -4.49018997e-01, -1.02164858e+00,\n",
       "        1.29165288e+00,  6.53856439e-01, -1.95410898e-01,  1.32532843e+00,\n",
       "       -8.04776397e-01,  5.03123099e-01,  9.53189431e-01,  3.01227363e-01,\n",
       "       -1.81851003e-01,  9.88012963e-01,  7.22382962e-01, -4.69281064e-01,\n",
       "       -3.16832022e-01, -1.88457709e-01,  7.40713055e-01, -2.82555038e+00,\n",
       "       -7.23682884e-02, -7.25646454e-01,  9.10181146e-02, -1.85613636e+00,\n",
       "        4.53003442e-01, -9.16713805e-02, -1.29845454e+00,  1.06673433e-01,\n",
       "       -1.41844339e+00, -1.30722020e+00,  4.97030298e-01, -1.05949347e-01,\n",
       "        6.95087687e-01, -1.47485710e-01,  4.94527019e-01,  1.01247051e+00,\n",
       "        3.62560361e-02, -1.71063932e+00,  9.82600419e-01,  1.59065431e+00,\n",
       "       -3.12608190e-01, -2.08052588e-03, -1.72073500e+00, -2.14645809e-01,\n",
       "        4.10318806e-01,  1.87668802e+00,  3.67583697e-01,  1.39743396e+00,\n",
       "        8.51526531e-01,  5.03980515e-01,  6.31075634e-01,  4.11724432e-02,\n",
       "        1.09626974e+00, -8.20379761e-01, -8.27635144e-01,  3.61017718e-02,\n",
       "        9.20335849e-01, -1.47167482e+00, -5.95459243e-01,  2.04874970e-01,\n",
       "       -6.04423662e-01, -1.41170422e-01, -1.35498778e+00,  4.97994812e-02,\n",
       "       -5.31853915e-01,  1.53597054e+00,  1.07739018e+00, -1.37098938e+00,\n",
       "        1.31209788e+00,  8.65780282e-01, -2.51995940e-01,  8.37206369e-01,\n",
       "        1.19816069e+00, -9.76684296e-02, -3.50646883e-01,  4.52874567e-01,\n",
       "       -1.25342962e+00,  1.77532512e+00,  1.17396726e+00,  2.21904028e+00,\n",
       "        9.59643058e-01, -6.62144116e-01, -1.72647576e+00,  1.07921813e-01,\n",
       "        1.35685358e+00,  1.22516106e+00, -1.83958815e+00, -1.82988873e+00,\n",
       "        4.98358093e-01, -1.06270564e+00, -8.72011397e-01,  1.18812459e+00,\n",
       "        3.96394896e-02, -6.80065726e-01,  5.69518102e-01, -4.31128530e-01,\n",
       "        1.25245903e+00,  1.35158328e+00, -6.32470907e-01, -8.75376479e-02,\n",
       "       -1.40403237e+00,  2.23855529e-01,  4.52632157e-01,  7.22495385e-01,\n",
       "       -2.63674311e-02,  7.68663047e-01, -2.13276902e-01, -1.05960916e+00,\n",
       "       -1.43860834e-01,  1.12877966e+00, -3.89089786e-01, -7.55155038e-01,\n",
       "        1.91714379e+00, -2.89809495e-01, -1.38661743e+00,  9.44781118e-01,\n",
       "       -8.79181540e-01, -3.61372107e-01,  2.44722024e+00,  3.36563271e-01,\n",
       "        4.37396398e-01, -7.15426074e-01,  1.14271662e+00,  5.63482098e-01,\n",
       "        1.47409412e+00,  7.41176652e-01,  2.11932855e+00,  5.21909777e-01,\n",
       "       -2.67429289e-01, -2.00982013e+00, -6.33634739e-02, -4.03344484e-01,\n",
       "       -1.89342075e-01,  4.29522885e-01,  9.78889379e-01,  1.59431208e+00,\n",
       "       -5.05482127e-01, -4.46948238e-01,  3.47135575e-01, -1.86250237e+00,\n",
       "       -2.09023814e-01, -2.12008853e+00,  2.82736353e-01,  3.46133345e-01,\n",
       "       -1.31373026e+00,  1.92361655e-01,  9.85154473e-01,  6.98579148e-01,\n",
       "        1.26303641e+00, -2.31787058e-01,  6.80038703e-01, -1.72636295e-01,\n",
       "       -1.41495567e-02, -6.54417707e-01,  2.31025598e-02,  1.44626580e+00,\n",
       "       -5.68743927e-02,  1.33001289e+00,  4.58750619e-01,  6.35872572e-01,\n",
       "       -1.02080487e+00, -1.97133898e-01, -8.24325013e-01, -4.96438875e-02,\n",
       "       -4.12144304e-01,  1.04680662e+00,  3.34114592e-01,  4.00722809e-01,\n",
       "        1.07092733e+00,  3.44332553e-01, -1.37445953e-01,  1.10100029e-01,\n",
       "        9.51243832e-01, -2.20380801e-01, -3.37000287e-02,  5.95772481e-01,\n",
       "        7.36691890e-01, -5.06977357e-01, -9.57988481e-01, -1.54992179e-01,\n",
       "       -1.82861778e+00,  7.46735905e-01,  2.74697703e-01, -7.95693603e-01,\n",
       "        8.70744421e-01,  1.71309592e+00,  4.22853884e-01, -8.77602636e-02,\n",
       "        2.39890388e-02, -1.43573681e+00,  7.93105903e-01, -5.40133012e-01,\n",
       "       -8.66349187e-01, -1.81274320e+00, -7.11998785e-01,  3.94415813e-01,\n",
       "       -7.15034367e-01,  8.42432304e-01, -1.54267940e+00, -4.45797976e-03,\n",
       "        7.99501642e-03, -2.70314967e-01, -1.27717516e+00, -4.34485432e-01,\n",
       "       -1.00299950e+00, -1.30557344e-01,  5.23192691e-01, -9.94667680e-01,\n",
       "       -1.07760130e+00,  7.92672477e-01,  1.07471539e+00, -5.48090615e-01,\n",
       "        2.26201779e-01,  1.36038753e+00,  1.71815672e+00, -6.60482318e-01,\n",
       "       -1.98967779e-01, -1.53464865e-01,  2.81449492e+00, -5.83951340e-01,\n",
       "       -4.09254374e-01, -7.13330138e-01, -6.91443285e-01,  1.61036521e-01,\n",
       "        1.33257129e+00, -8.69010950e-01, -1.27729900e-01, -7.70692089e-01,\n",
       "       -1.26258978e+00, -1.81547158e+00,  1.52746197e+00,  1.27385134e+00,\n",
       "        8.25662044e-01, -2.95613143e-01, -1.66665457e-01, -9.01946844e-02,\n",
       "       -4.36507718e-01, -6.96799738e-01, -1.55112687e+00,  4.46342090e-01,\n",
       "       -1.38597771e+00,  7.74572291e-01, -2.21543113e-01, -5.05734450e-01,\n",
       "       -6.50095516e-01,  2.51309918e-01,  6.22558589e-01,  2.74368592e+00,\n",
       "       -6.20136227e-01, -1.64373181e+00,  2.99550126e+00,  1.46226480e-01,\n",
       "        1.56483681e+00, -7.84292691e-01,  3.86106737e-01,  7.68305123e-01,\n",
       "        1.41550869e+00, -1.22443474e+00,  1.53230023e+00, -2.66081785e-01,\n",
       "        1.80606869e-01,  8.26058863e-01, -4.36250678e-01, -1.00243368e-02,\n",
       "        1.14522043e+00, -1.44017419e+00,  1.09027120e+00,  1.47478048e+00,\n",
       "       -1.20834775e+00, -1.28433870e-01,  1.75731359e-03, -6.34749353e-01,\n",
       "        1.26128393e+00,  9.65168574e-01,  6.97052124e-01,  1.77485890e+00])"
      ]
     },
     "execution_count": 71,
     "metadata": {},
     "output_type": "execute_result"
    }
   ],
   "source": [
    "data"
   ]
  },
  {
   "cell_type": "code",
   "execution_count": 72,
   "metadata": {},
   "outputs": [],
   "source": [
    "result = pd.qcut(data, 4, labels=['Q1', 'Q2', 'Q3', 'Q4'])"
   ]
  },
  {
   "cell_type": "code",
   "execution_count": 73,
   "metadata": {},
   "outputs": [
    {
     "data": {
      "text/plain": [
       "[Q3, Q1, Q2, Q3, Q4, ..., Q2, Q4, Q4, Q4, Q4]\n",
       "Length: 1000\n",
       "Categories (4, object): [Q1 < Q2 < Q3 < Q4]"
      ]
     },
     "execution_count": 73,
     "metadata": {},
     "output_type": "execute_result"
    }
   ],
   "source": [
    "result"
   ]
  },
  {
   "cell_type": "code",
   "execution_count": 74,
   "metadata": {},
   "outputs": [],
   "source": [
    "result1 = pd.value_counts(result)"
   ]
  },
  {
   "cell_type": "code",
   "execution_count": 75,
   "metadata": {},
   "outputs": [
    {
     "data": {
      "text/plain": [
       "Q4    250\n",
       "Q3    250\n",
       "Q2    250\n",
       "Q1    250\n",
       "dtype: int64"
      ]
     },
     "execution_count": 75,
     "metadata": {},
     "output_type": "execute_result"
    }
   ],
   "source": [
    "result1"
   ]
  },
  {
   "cell_type": "code",
   "execution_count": null,
   "metadata": {},
   "outputs": [],
   "source": []
  }
 ],
 "metadata": {
  "kernelspec": {
   "display_name": "Python 3",
   "language": "python",
   "name": "python3"
  },
  "language_info": {
   "codemirror_mode": {
    "name": "ipython",
    "version": 3
   },
   "file_extension": ".py",
   "mimetype": "text/x-python",
   "name": "python",
   "nbconvert_exporter": "python",
   "pygments_lexer": "ipython3",
   "version": "3.7.6"
  }
 },
 "nbformat": 4,
 "nbformat_minor": 4
}
