{
 "cells": [
  {
   "cell_type": "code",
   "execution_count": 1,
   "metadata": {},
   "outputs": [],
   "source": [
    "import pandas as pd"
   ]
  },
  {
   "cell_type": "code",
   "execution_count": 2,
   "metadata": {},
   "outputs": [],
   "source": [
    "import numpy as np"
   ]
  },
  {
   "cell_type": "code",
   "execution_count": 3,
   "metadata": {},
   "outputs": [],
   "source": [
    "date_str = ['2020, 1, 1', '2020, 1, 4', \n",
    "            '2020, 1, 5', '2020, 1, 6']"
   ]
  },
  {
   "cell_type": "code",
   "execution_count": 4,
   "metadata": {},
   "outputs": [
    {
     "data": {
      "text/plain": [
       "['2020, 1, 1', '2020, 1, 4', '2020, 1, 5', '2020, 1, 6']"
      ]
     },
     "execution_count": 4,
     "metadata": {},
     "output_type": "execute_result"
    }
   ],
   "source": [
    "date_str"
   ]
  },
  {
   "cell_type": "code",
   "execution_count": 5,
   "metadata": {},
   "outputs": [],
   "source": [
    "idx = pd.to_datetime(date_str)"
   ]
  },
  {
   "cell_type": "code",
   "execution_count": 6,
   "metadata": {},
   "outputs": [
    {
     "data": {
      "text/plain": [
       "DatetimeIndex(['2020-01-01', '2020-01-04', '2020-01-05', '2020-01-06'], dtype='datetime64[ns]', freq=None)"
      ]
     },
     "execution_count": 6,
     "metadata": {},
     "output_type": "execute_result"
    }
   ],
   "source": [
    "idx"
   ]
  },
  {
   "cell_type": "code",
   "execution_count": 7,
   "metadata": {},
   "outputs": [
    {
     "data": {
      "text/plain": [
       "pandas.core.indexes.datetimes.DatetimeIndex"
      ]
     },
     "execution_count": 7,
     "metadata": {},
     "output_type": "execute_result"
    }
   ],
   "source": [
    "type(idx)"
   ]
  },
  {
   "cell_type": "code",
   "execution_count": 8,
   "metadata": {},
   "outputs": [],
   "source": [
    "np.random.seed(0)"
   ]
  },
  {
   "cell_type": "code",
   "execution_count": 9,
   "metadata": {},
   "outputs": [
    {
     "data": {
      "text/plain": [
       "array([1.76405235, 0.40015721, 0.97873798, 2.2408932 ])"
      ]
     },
     "execution_count": 9,
     "metadata": {},
     "output_type": "execute_result"
    }
   ],
   "source": [
    "np.random.randn(4)"
   ]
  },
  {
   "cell_type": "code",
   "execution_count": 10,
   "metadata": {},
   "outputs": [],
   "source": [
    "s = pd.Series(np.random.randn(4), index=idx)"
   ]
  },
  {
   "cell_type": "code",
   "execution_count": 11,
   "metadata": {},
   "outputs": [
    {
     "data": {
      "text/plain": [
       "2020-01-01    1.867558\n",
       "2020-01-04   -0.977278\n",
       "2020-01-05    0.950088\n",
       "2020-01-06   -0.151357\n",
       "dtype: float64"
      ]
     },
     "execution_count": 11,
     "metadata": {},
     "output_type": "execute_result"
    }
   ],
   "source": [
    "s"
   ]
  },
  {
   "cell_type": "code",
   "execution_count": null,
   "metadata": {},
   "outputs": [],
   "source": []
  },
  {
   "cell_type": "code",
   "execution_count": 12,
   "metadata": {},
   "outputs": [],
   "source": [
    "idx = pd.date_range('2020-4-1', '2020-4-30')"
   ]
  },
  {
   "cell_type": "code",
   "execution_count": 13,
   "metadata": {},
   "outputs": [
    {
     "data": {
      "text/plain": [
       "DatetimeIndex(['2020-04-01', '2020-04-02', '2020-04-03', '2020-04-04',\n",
       "               '2020-04-05', '2020-04-06', '2020-04-07', '2020-04-08',\n",
       "               '2020-04-09', '2020-04-10', '2020-04-11', '2020-04-12',\n",
       "               '2020-04-13', '2020-04-14', '2020-04-15', '2020-04-16',\n",
       "               '2020-04-17', '2020-04-18', '2020-04-19', '2020-04-20',\n",
       "               '2020-04-21', '2020-04-22', '2020-04-23', '2020-04-24',\n",
       "               '2020-04-25', '2020-04-26', '2020-04-27', '2020-04-28',\n",
       "               '2020-04-29', '2020-04-30'],\n",
       "              dtype='datetime64[ns]', freq='D')"
      ]
     },
     "execution_count": 13,
     "metadata": {},
     "output_type": "execute_result"
    }
   ],
   "source": [
    "idx"
   ]
  },
  {
   "cell_type": "code",
   "execution_count": 14,
   "metadata": {},
   "outputs": [],
   "source": [
    "idx = pd.date_range(start='2020-5-1', periods=30)"
   ]
  },
  {
   "cell_type": "code",
   "execution_count": 15,
   "metadata": {},
   "outputs": [
    {
     "data": {
      "text/plain": [
       "DatetimeIndex(['2020-05-01', '2020-05-02', '2020-05-03', '2020-05-04',\n",
       "               '2020-05-05', '2020-05-06', '2020-05-07', '2020-05-08',\n",
       "               '2020-05-09', '2020-05-10', '2020-05-11', '2020-05-12',\n",
       "               '2020-05-13', '2020-05-14', '2020-05-15', '2020-05-16',\n",
       "               '2020-05-17', '2020-05-18', '2020-05-19', '2020-05-20',\n",
       "               '2020-05-21', '2020-05-22', '2020-05-23', '2020-05-24',\n",
       "               '2020-05-25', '2020-05-26', '2020-05-27', '2020-05-28',\n",
       "               '2020-05-29', '2020-05-30'],\n",
       "              dtype='datetime64[ns]', freq='D')"
      ]
     },
     "execution_count": 15,
     "metadata": {},
     "output_type": "execute_result"
    }
   ],
   "source": [
    "idx"
   ]
  },
  {
   "cell_type": "code",
   "execution_count": null,
   "metadata": {},
   "outputs": [],
   "source": []
  },
  {
   "cell_type": "code",
   "execution_count": 18,
   "metadata": {},
   "outputs": [],
   "source": [
    "idx = pd.date_range('2020-5-1', '2020-5-30', freq='B')"
   ]
  },
  {
   "cell_type": "code",
   "execution_count": 19,
   "metadata": {},
   "outputs": [
    {
     "data": {
      "text/plain": [
       "DatetimeIndex(['2020-05-01', '2020-05-04', '2020-05-05', '2020-05-06',\n",
       "               '2020-05-07', '2020-05-08', '2020-05-11', '2020-05-12',\n",
       "               '2020-05-13', '2020-05-14', '2020-05-15', '2020-05-18',\n",
       "               '2020-05-19', '2020-05-20', '2020-05-21', '2020-05-22',\n",
       "               '2020-05-25', '2020-05-26', '2020-05-27', '2020-05-28',\n",
       "               '2020-05-29'],\n",
       "              dtype='datetime64[ns]', freq='B')"
      ]
     },
     "execution_count": 19,
     "metadata": {},
     "output_type": "execute_result"
    }
   ],
   "source": [
    "idx"
   ]
  },
  {
   "cell_type": "code",
   "execution_count": 20,
   "metadata": {},
   "outputs": [],
   "source": [
    "idx = pd.date_range('2020-5-1', '2020-5-30', freq='W')"
   ]
  },
  {
   "cell_type": "code",
   "execution_count": 21,
   "metadata": {},
   "outputs": [
    {
     "data": {
      "text/plain": [
       "DatetimeIndex(['2020-05-03', '2020-05-10', '2020-05-17', '2020-05-24'], dtype='datetime64[ns]', freq='W-SUN')"
      ]
     },
     "execution_count": 21,
     "metadata": {},
     "output_type": "execute_result"
    }
   ],
   "source": [
    "idx"
   ]
  },
  {
   "cell_type": "code",
   "execution_count": 24,
   "metadata": {},
   "outputs": [],
   "source": [
    "idx = pd.date_range('2020-1-1', '2020-12-31', freq='W-MON')"
   ]
  },
  {
   "cell_type": "code",
   "execution_count": 25,
   "metadata": {},
   "outputs": [
    {
     "data": {
      "text/plain": [
       "DatetimeIndex(['2020-01-06', '2020-01-13', '2020-01-20', '2020-01-27',\n",
       "               '2020-02-03', '2020-02-10', '2020-02-17', '2020-02-24',\n",
       "               '2020-03-02', '2020-03-09', '2020-03-16', '2020-03-23',\n",
       "               '2020-03-30', '2020-04-06', '2020-04-13', '2020-04-20',\n",
       "               '2020-04-27', '2020-05-04', '2020-05-11', '2020-05-18',\n",
       "               '2020-05-25', '2020-06-01', '2020-06-08', '2020-06-15',\n",
       "               '2020-06-22', '2020-06-29', '2020-07-06', '2020-07-13',\n",
       "               '2020-07-20', '2020-07-27', '2020-08-03', '2020-08-10',\n",
       "               '2020-08-17', '2020-08-24', '2020-08-31', '2020-09-07',\n",
       "               '2020-09-14', '2020-09-21', '2020-09-28', '2020-10-05',\n",
       "               '2020-10-12', '2020-10-19', '2020-10-26', '2020-11-02',\n",
       "               '2020-11-09', '2020-11-16', '2020-11-23', '2020-11-30',\n",
       "               '2020-12-07', '2020-12-14', '2020-12-21', '2020-12-28'],\n",
       "              dtype='datetime64[ns]', freq='W-MON')"
      ]
     },
     "execution_count": 25,
     "metadata": {},
     "output_type": "execute_result"
    }
   ],
   "source": [
    "idx"
   ]
  },
  {
   "cell_type": "code",
   "execution_count": 26,
   "metadata": {},
   "outputs": [],
   "source": [
    "idx = pd.date_range('2020-1-1', '2020-12-31', freq='MS')"
   ]
  },
  {
   "cell_type": "code",
   "execution_count": 27,
   "metadata": {},
   "outputs": [
    {
     "data": {
      "text/plain": [
       "DatetimeIndex(['2020-01-01', '2020-02-01', '2020-03-01', '2020-04-01',\n",
       "               '2020-05-01', '2020-06-01', '2020-07-01', '2020-08-01',\n",
       "               '2020-09-01', '2020-10-01', '2020-11-01', '2020-12-01'],\n",
       "              dtype='datetime64[ns]', freq='MS')"
      ]
     },
     "execution_count": 27,
     "metadata": {},
     "output_type": "execute_result"
    }
   ],
   "source": [
    "idx"
   ]
  },
  {
   "cell_type": "code",
   "execution_count": 28,
   "metadata": {},
   "outputs": [],
   "source": [
    "idx = pd.date_range('2020-1-1', '2020-12-31', freq='M')"
   ]
  },
  {
   "cell_type": "code",
   "execution_count": 29,
   "metadata": {},
   "outputs": [
    {
     "data": {
      "text/plain": [
       "DatetimeIndex(['2020-01-31', '2020-02-29', '2020-03-31', '2020-04-30',\n",
       "               '2020-05-31', '2020-06-30', '2020-07-31', '2020-08-31',\n",
       "               '2020-09-30', '2020-10-31', '2020-11-30', '2020-12-31'],\n",
       "              dtype='datetime64[ns]', freq='M')"
      ]
     },
     "execution_count": 29,
     "metadata": {},
     "output_type": "execute_result"
    }
   ],
   "source": [
    "idx"
   ]
  },
  {
   "cell_type": "code",
   "execution_count": 30,
   "metadata": {},
   "outputs": [],
   "source": [
    "idx = pd.date_range('2020-1-1', '2020-12-31', freq='BMS')"
   ]
  },
  {
   "cell_type": "code",
   "execution_count": 31,
   "metadata": {},
   "outputs": [
    {
     "data": {
      "text/plain": [
       "DatetimeIndex(['2020-01-01', '2020-02-03', '2020-03-02', '2020-04-01',\n",
       "               '2020-05-01', '2020-06-01', '2020-07-01', '2020-08-03',\n",
       "               '2020-09-01', '2020-10-01', '2020-11-02', '2020-12-01'],\n",
       "              dtype='datetime64[ns]', freq='BMS')"
      ]
     },
     "execution_count": 31,
     "metadata": {},
     "output_type": "execute_result"
    }
   ],
   "source": [
    "idx"
   ]
  },
  {
   "cell_type": "code",
   "execution_count": 32,
   "metadata": {},
   "outputs": [],
   "source": [
    "idx = pd.date_range('2020-1-1', '2020-12-31', freq='BM')"
   ]
  },
  {
   "cell_type": "code",
   "execution_count": 33,
   "metadata": {},
   "outputs": [
    {
     "data": {
      "text/plain": [
       "DatetimeIndex(['2020-01-31', '2020-02-28', '2020-03-31', '2020-04-30',\n",
       "               '2020-05-29', '2020-06-30', '2020-07-31', '2020-08-31',\n",
       "               '2020-09-30', '2020-10-30', '2020-11-30', '2020-12-31'],\n",
       "              dtype='datetime64[ns]', freq='BM')"
      ]
     },
     "execution_count": 33,
     "metadata": {},
     "output_type": "execute_result"
    }
   ],
   "source": [
    "idx"
   ]
  },
  {
   "cell_type": "code",
   "execution_count": 36,
   "metadata": {},
   "outputs": [],
   "source": [
    "idx = pd.date_range('2020-1-1', '2020-12-31', freq='WOM-2THU')"
   ]
  },
  {
   "cell_type": "code",
   "execution_count": 37,
   "metadata": {},
   "outputs": [
    {
     "data": {
      "text/plain": [
       "DatetimeIndex(['2020-01-09', '2020-02-13', '2020-03-12', '2020-04-09',\n",
       "               '2020-05-14', '2020-06-11', '2020-07-09', '2020-08-13',\n",
       "               '2020-09-10', '2020-10-08', '2020-11-12', '2020-12-10'],\n",
       "              dtype='datetime64[ns]', freq='WOM-2THU')"
      ]
     },
     "execution_count": 37,
     "metadata": {},
     "output_type": "execute_result"
    }
   ],
   "source": [
    "idx"
   ]
  },
  {
   "cell_type": "code",
   "execution_count": 38,
   "metadata": {},
   "outputs": [],
   "source": [
    "idx = pd.date_range('2020-1-1', '2020-12-31', freq='WOM-3FRI')"
   ]
  },
  {
   "cell_type": "code",
   "execution_count": 39,
   "metadata": {},
   "outputs": [
    {
     "data": {
      "text/plain": [
       "DatetimeIndex(['2020-01-17', '2020-02-21', '2020-03-20', '2020-04-17',\n",
       "               '2020-05-15', '2020-06-19', '2020-07-17', '2020-08-21',\n",
       "               '2020-09-18', '2020-10-16', '2020-11-20', '2020-12-18'],\n",
       "              dtype='datetime64[ns]', freq='WOM-3FRI')"
      ]
     },
     "execution_count": 39,
     "metadata": {},
     "output_type": "execute_result"
    }
   ],
   "source": [
    "idx"
   ]
  },
  {
   "cell_type": "code",
   "execution_count": 40,
   "metadata": {},
   "outputs": [],
   "source": [
    "idx = pd.date_range('2020-1-1', '2020-12-31', freq='Q-JAN')"
   ]
  },
  {
   "cell_type": "code",
   "execution_count": 41,
   "metadata": {},
   "outputs": [
    {
     "data": {
      "text/plain": [
       "DatetimeIndex(['2020-01-31', '2020-04-30', '2020-07-31', '2020-10-31'], dtype='datetime64[ns]', freq='Q-JAN')"
      ]
     },
     "execution_count": 41,
     "metadata": {},
     "output_type": "execute_result"
    }
   ],
   "source": [
    "idx"
   ]
  },
  {
   "cell_type": "code",
   "execution_count": 46,
   "metadata": {},
   "outputs": [],
   "source": [
    "idx = pd.date_range('2020-1-1', '2020-12-31', freq='Q-DEC')"
   ]
  },
  {
   "cell_type": "code",
   "execution_count": 43,
   "metadata": {},
   "outputs": [
    {
     "data": {
      "text/plain": [
       "DatetimeIndex(['2020-03-31', '2020-06-30', '2020-09-30', '2020-12-31'], dtype='datetime64[ns]', freq='Q-DEC')"
      ]
     },
     "execution_count": 43,
     "metadata": {},
     "output_type": "execute_result"
    }
   ],
   "source": [
    "idx"
   ]
  },
  {
   "cell_type": "code",
   "execution_count": null,
   "metadata": {},
   "outputs": [],
   "source": []
  },
  {
   "cell_type": "code",
   "execution_count": 47,
   "metadata": {},
   "outputs": [],
   "source": [
    "np.random.seed(0)"
   ]
  },
  {
   "cell_type": "code",
   "execution_count": 48,
   "metadata": {},
   "outputs": [
    {
     "data": {
      "text/plain": [
       "array([1.76405235, 0.40015721, 0.97873798, 2.2408932 ])"
      ]
     },
     "execution_count": 48,
     "metadata": {},
     "output_type": "execute_result"
    }
   ],
   "source": [
    "np.random.randn(4)"
   ]
  },
  {
   "cell_type": "code",
   "execution_count": 50,
   "metadata": {},
   "outputs": [
    {
     "data": {
      "text/plain": [
       "DatetimeIndex(['2020-01-31', '2020-02-29', '2020-03-31', '2020-04-30'], dtype='datetime64[ns]', freq='M')"
      ]
     },
     "execution_count": 50,
     "metadata": {},
     "output_type": "execute_result"
    }
   ],
   "source": [
    "pd.date_range('2020-1-1', periods=4, freq='M')"
   ]
  },
  {
   "cell_type": "code",
   "execution_count": 51,
   "metadata": {},
   "outputs": [],
   "source": [
    "ts = pd.Series(np.random.randn(4), \n",
    "               index=pd.date_range('2020-1-1', periods=4, freq='M'))"
   ]
  },
  {
   "cell_type": "code",
   "execution_count": 52,
   "metadata": {},
   "outputs": [
    {
     "data": {
      "text/plain": [
       "2020-01-31    1.867558\n",
       "2020-02-29   -0.977278\n",
       "2020-03-31    0.950088\n",
       "2020-04-30   -0.151357\n",
       "Freq: M, dtype: float64"
      ]
     },
     "execution_count": 52,
     "metadata": {},
     "output_type": "execute_result"
    }
   ],
   "source": [
    "ts"
   ]
  },
  {
   "cell_type": "code",
   "execution_count": 53,
   "metadata": {},
   "outputs": [],
   "source": [
    "result = ts.shift(1)"
   ]
  },
  {
   "cell_type": "code",
   "execution_count": 54,
   "metadata": {},
   "outputs": [
    {
     "data": {
      "text/plain": [
       "2020-01-31         NaN\n",
       "2020-02-29    1.867558\n",
       "2020-03-31   -0.977278\n",
       "2020-04-30    0.950088\n",
       "Freq: M, dtype: float64"
      ]
     },
     "execution_count": 54,
     "metadata": {},
     "output_type": "execute_result"
    }
   ],
   "source": [
    "result"
   ]
  },
  {
   "cell_type": "code",
   "execution_count": 55,
   "metadata": {},
   "outputs": [
    {
     "data": {
      "text/plain": [
       "2020-01-31    1.867558\n",
       "2020-02-29   -0.977278\n",
       "2020-03-31    0.950088\n",
       "2020-04-30   -0.151357\n",
       "Freq: M, dtype: float64"
      ]
     },
     "execution_count": 55,
     "metadata": {},
     "output_type": "execute_result"
    }
   ],
   "source": [
    "ts"
   ]
  },
  {
   "cell_type": "code",
   "execution_count": 56,
   "metadata": {},
   "outputs": [],
   "source": [
    "result = ts.shift(2)"
   ]
  },
  {
   "cell_type": "code",
   "execution_count": 57,
   "metadata": {},
   "outputs": [
    {
     "data": {
      "text/plain": [
       "2020-01-31         NaN\n",
       "2020-02-29         NaN\n",
       "2020-03-31    1.867558\n",
       "2020-04-30   -0.977278\n",
       "Freq: M, dtype: float64"
      ]
     },
     "execution_count": 57,
     "metadata": {},
     "output_type": "execute_result"
    }
   ],
   "source": [
    "result"
   ]
  },
  {
   "cell_type": "code",
   "execution_count": 58,
   "metadata": {},
   "outputs": [
    {
     "data": {
      "text/plain": [
       "2020-01-31    1.867558\n",
       "2020-02-29   -0.977278\n",
       "2020-03-31    0.950088\n",
       "2020-04-30   -0.151357\n",
       "Freq: M, dtype: float64"
      ]
     },
     "execution_count": 58,
     "metadata": {},
     "output_type": "execute_result"
    }
   ],
   "source": [
    "ts"
   ]
  },
  {
   "cell_type": "code",
   "execution_count": 59,
   "metadata": {},
   "outputs": [],
   "source": [
    "result = ts.shift(-1)"
   ]
  },
  {
   "cell_type": "code",
   "execution_count": 60,
   "metadata": {},
   "outputs": [
    {
     "data": {
      "text/plain": [
       "2020-01-31   -0.977278\n",
       "2020-02-29    0.950088\n",
       "2020-03-31   -0.151357\n",
       "2020-04-30         NaN\n",
       "Freq: M, dtype: float64"
      ]
     },
     "execution_count": 60,
     "metadata": {},
     "output_type": "execute_result"
    }
   ],
   "source": [
    "result"
   ]
  },
  {
   "cell_type": "code",
   "execution_count": 61,
   "metadata": {},
   "outputs": [],
   "source": [
    "result = ts.shift(-2)"
   ]
  },
  {
   "cell_type": "code",
   "execution_count": 62,
   "metadata": {},
   "outputs": [
    {
     "data": {
      "text/plain": [
       "2020-01-31    0.950088\n",
       "2020-02-29   -0.151357\n",
       "2020-03-31         NaN\n",
       "2020-04-30         NaN\n",
       "Freq: M, dtype: float64"
      ]
     },
     "execution_count": 62,
     "metadata": {},
     "output_type": "execute_result"
    }
   ],
   "source": [
    "result"
   ]
  },
  {
   "cell_type": "code",
   "execution_count": 63,
   "metadata": {},
   "outputs": [
    {
     "data": {
      "text/plain": [
       "2020-01-31    1.867558\n",
       "2020-02-29   -0.977278\n",
       "2020-03-31    0.950088\n",
       "2020-04-30   -0.151357\n",
       "Freq: M, dtype: float64"
      ]
     },
     "execution_count": 63,
     "metadata": {},
     "output_type": "execute_result"
    }
   ],
   "source": [
    "ts"
   ]
  },
  {
   "cell_type": "code",
   "execution_count": 64,
   "metadata": {},
   "outputs": [],
   "source": [
    "result = ts.shift(1, freq='M')"
   ]
  },
  {
   "cell_type": "code",
   "execution_count": 65,
   "metadata": {},
   "outputs": [
    {
     "data": {
      "text/plain": [
       "2020-02-29    1.867558\n",
       "2020-03-31   -0.977278\n",
       "2020-04-30    0.950088\n",
       "2020-05-31   -0.151357\n",
       "Freq: M, dtype: float64"
      ]
     },
     "execution_count": 65,
     "metadata": {},
     "output_type": "execute_result"
    }
   ],
   "source": [
    "result"
   ]
  },
  {
   "cell_type": "code",
   "execution_count": 66,
   "metadata": {},
   "outputs": [],
   "source": [
    "result = ts.shift(1, freq='W')"
   ]
  },
  {
   "cell_type": "code",
   "execution_count": 67,
   "metadata": {},
   "outputs": [
    {
     "data": {
      "text/plain": [
       "2020-02-02    1.867558\n",
       "2020-03-01   -0.977278\n",
       "2020-04-05    0.950088\n",
       "2020-05-03   -0.151357\n",
       "Freq: WOM-1SUN, dtype: float64"
      ]
     },
     "execution_count": 67,
     "metadata": {},
     "output_type": "execute_result"
    }
   ],
   "source": [
    "result"
   ]
  },
  {
   "cell_type": "code",
   "execution_count": null,
   "metadata": {},
   "outputs": [],
   "source": []
  },
  {
   "cell_type": "code",
   "execution_count": 71,
   "metadata": {},
   "outputs": [],
   "source": [
    "idx = pd.date_range('2020-1-1', periods=100, freq='D')"
   ]
  },
  {
   "cell_type": "code",
   "execution_count": 69,
   "metadata": {},
   "outputs": [],
   "source": [
    "ts = pd.Series(np.random.randn(100), index=pd.date_range('2020-1-1', periods=100, freq='D'))"
   ]
  },
  {
   "cell_type": "code",
   "execution_count": 72,
   "metadata": {},
   "outputs": [],
   "source": [
    "ts = pd.Series(np.random.randn(100), index=idx)"
   ]
  },
  {
   "cell_type": "code",
   "execution_count": 73,
   "metadata": {},
   "outputs": [
    {
     "data": {
      "text/plain": [
       "2020-03-21   -0.739563\n",
       "2020-03-22    1.543015\n",
       "2020-03-23   -1.292857\n",
       "2020-03-24    0.267051\n",
       "2020-03-25   -0.039283\n",
       "2020-03-26   -1.168093\n",
       "2020-03-27    0.523277\n",
       "2020-03-28   -0.171546\n",
       "2020-03-29    0.771791\n",
       "2020-03-30    0.823504\n",
       "2020-03-31    2.163236\n",
       "2020-04-01    1.336528\n",
       "2020-04-02   -0.369182\n",
       "2020-04-03   -0.239379\n",
       "2020-04-04    1.099660\n",
       "2020-04-05    0.655264\n",
       "2020-04-06    0.640132\n",
       "2020-04-07   -1.616956\n",
       "2020-04-08   -0.024326\n",
       "2020-04-09   -0.738031\n",
       "Freq: D, dtype: float64"
      ]
     },
     "execution_count": 73,
     "metadata": {},
     "output_type": "execute_result"
    }
   ],
   "source": [
    "ts.tail(20)"
   ]
  },
  {
   "cell_type": "code",
   "execution_count": 74,
   "metadata": {},
   "outputs": [],
   "source": [
    "result = ts.resample('W').mean()"
   ]
  },
  {
   "cell_type": "code",
   "execution_count": 75,
   "metadata": {},
   "outputs": [
    {
     "data": {
      "text/plain": [
       "2020-01-05    1.063167\n",
       "2020-01-12    0.681864\n",
       "2020-01-19   -0.053958\n",
       "2020-01-26    0.293693\n",
       "2020-02-02   -0.254205\n",
       "2020-02-09    0.681845\n",
       "2020-02-16   -0.257434\n",
       "2020-02-23   -0.110080\n",
       "2020-03-01   -0.100151\n",
       "2020-03-08    0.201384\n",
       "2020-03-15   -0.614797\n",
       "2020-03-22   -0.492714\n",
       "2020-03-29   -0.158523\n",
       "2020-04-05    0.781376\n",
       "2020-04-12   -0.434795\n",
       "Freq: W-SUN, dtype: float64"
      ]
     },
     "execution_count": 75,
     "metadata": {},
     "output_type": "execute_result"
    }
   ],
   "source": [
    "result"
   ]
  },
  {
   "cell_type": "code",
   "execution_count": 77,
   "metadata": {},
   "outputs": [
    {
     "data": {
      "text/plain": [
       "2020-01-01    1.922942\n",
       "2020-01-02    1.480515\n",
       "2020-01-03    1.867559\n",
       "2020-01-04    0.906045\n",
       "2020-01-05   -0.861226\n",
       "                ...   \n",
       "2020-04-05    0.655264\n",
       "2020-04-06    0.640132\n",
       "2020-04-07   -1.616956\n",
       "2020-04-08   -0.024326\n",
       "2020-04-09   -0.738031\n",
       "Freq: D, Length: 100, dtype: float64"
      ]
     },
     "execution_count": 77,
     "metadata": {},
     "output_type": "execute_result"
    }
   ],
   "source": [
    "ts"
   ]
  },
  {
   "cell_type": "code",
   "execution_count": 78,
   "metadata": {},
   "outputs": [],
   "source": [
    "result = ts.resample('M').first()"
   ]
  },
  {
   "cell_type": "code",
   "execution_count": 79,
   "metadata": {},
   "outputs": [
    {
     "data": {
      "text/plain": [
       "2020-01-31    1.922942\n",
       "2020-02-29   -1.093062\n",
       "2020-03-31    1.188030\n",
       "2020-04-30    1.336528\n",
       "Freq: M, dtype: float64"
      ]
     },
     "execution_count": 79,
     "metadata": {},
     "output_type": "execute_result"
    }
   ],
   "source": [
    "result"
   ]
  },
  {
   "cell_type": "code",
   "execution_count": null,
   "metadata": {},
   "outputs": [],
   "source": []
  },
  {
   "cell_type": "code",
   "execution_count": 82,
   "metadata": {},
   "outputs": [],
   "source": [
    "idx = pd.date_range('2020-1-1', periods=60, freq='T')"
   ]
  },
  {
   "cell_type": "code",
   "execution_count": 83,
   "metadata": {},
   "outputs": [],
   "source": [
    "ts = pd.Series(np.random.randn(60), index=idx)"
   ]
  },
  {
   "cell_type": "code",
   "execution_count": 84,
   "metadata": {},
   "outputs": [
    {
     "data": {
      "text/plain": [
       "2020-01-01 00:00:00    0.279925\n",
       "2020-01-01 00:01:00   -0.098150\n",
       "2020-01-01 00:02:00    0.910179\n",
       "2020-01-01 00:03:00    0.317218\n",
       "2020-01-01 00:04:00    0.786328\n",
       "2020-01-01 00:05:00   -0.466419\n",
       "2020-01-01 00:06:00   -0.944446\n",
       "2020-01-01 00:07:00   -0.410050\n",
       "2020-01-01 00:08:00   -0.017020\n",
       "2020-01-01 00:09:00    0.379152\n",
       "Freq: T, dtype: float64"
      ]
     },
     "execution_count": 84,
     "metadata": {},
     "output_type": "execute_result"
    }
   ],
   "source": [
    "ts.head(10)"
   ]
  },
  {
   "cell_type": "code",
   "execution_count": 87,
   "metadata": {},
   "outputs": [],
   "source": [
    "result = ts.resample('10T').sum()"
   ]
  },
  {
   "cell_type": "code",
   "execution_count": 88,
   "metadata": {},
   "outputs": [
    {
     "data": {
      "text/plain": [
       "2020-01-01 00:00:00    0.736716\n",
       "2020-01-01 00:10:00   -0.155837\n",
       "2020-01-01 00:20:00   -3.829915\n",
       "2020-01-01 00:30:00   -0.115280\n",
       "2020-01-01 00:40:00   -3.234560\n",
       "2020-01-01 00:50:00   -4.452304\n",
       "Freq: 10T, dtype: float64"
      ]
     },
     "execution_count": 88,
     "metadata": {},
     "output_type": "execute_result"
    }
   ],
   "source": [
    "result"
   ]
  },
  {
   "cell_type": "code",
   "execution_count": 90,
   "metadata": {},
   "outputs": [],
   "source": [
    "result = ts.resample('10T', closed='right').sum()"
   ]
  },
  {
   "cell_type": "code",
   "execution_count": 91,
   "metadata": {},
   "outputs": [
    {
     "data": {
      "text/plain": [
       "2019-12-31 23:50:00    0.279925\n",
       "2020-01-01 00:00:00    2.716100\n",
       "2020-01-01 00:10:00   -3.012462\n",
       "2020-01-01 00:20:00   -2.806340\n",
       "2020-01-01 00:30:00   -1.354903\n",
       "2020-01-01 00:40:00   -4.004135\n",
       "2020-01-01 00:50:00   -2.869366\n",
       "Freq: 10T, dtype: float64"
      ]
     },
     "execution_count": 91,
     "metadata": {},
     "output_type": "execute_result"
    }
   ],
   "source": [
    "result"
   ]
  },
  {
   "cell_type": "code",
   "execution_count": null,
   "metadata": {},
   "outputs": [],
   "source": []
  },
  {
   "cell_type": "code",
   "execution_count": 92,
   "metadata": {},
   "outputs": [
    {
     "data": {
      "text/plain": [
       "2020-01-01 00:00:00    0.279925\n",
       "2020-01-01 00:01:00   -0.098150\n",
       "2020-01-01 00:02:00    0.910179\n",
       "2020-01-01 00:03:00    0.317218\n",
       "2020-01-01 00:04:00    0.786328\n",
       "2020-01-01 00:05:00   -0.466419\n",
       "2020-01-01 00:06:00   -0.944446\n",
       "2020-01-01 00:07:00   -0.410050\n",
       "2020-01-01 00:08:00   -0.017020\n",
       "2020-01-01 00:09:00    0.379152\n",
       "2020-01-01 00:10:00    2.259309\n",
       "2020-01-01 00:11:00   -0.042257\n",
       "2020-01-01 00:12:00   -0.955945\n",
       "2020-01-01 00:13:00   -0.345982\n",
       "2020-01-01 00:14:00   -0.463596\n",
       "2020-01-01 00:15:00    0.481481\n",
       "2020-01-01 00:16:00   -1.540797\n",
       "2020-01-01 00:17:00    0.063262\n",
       "2020-01-01 00:18:00    0.156507\n",
       "2020-01-01 00:19:00    0.232181\n",
       "2020-01-01 00:20:00   -0.597316\n",
       "2020-01-01 00:21:00   -0.237922\n",
       "2020-01-01 00:22:00   -1.424061\n",
       "2020-01-01 00:23:00   -0.493320\n",
       "2020-01-01 00:24:00   -0.542861\n",
       "2020-01-01 00:25:00    0.416050\n",
       "2020-01-01 00:26:00   -1.156182\n",
       "2020-01-01 00:27:00    0.781198\n",
       "2020-01-01 00:28:00    1.494485\n",
       "2020-01-01 00:29:00   -2.069985\n",
       "2020-01-01 00:30:00    0.426259\n",
       "2020-01-01 00:31:00    0.676908\n",
       "2020-01-01 00:32:00   -0.637437\n",
       "2020-01-01 00:33:00   -0.397272\n",
       "2020-01-01 00:34:00   -0.132881\n",
       "2020-01-01 00:35:00   -0.297791\n",
       "2020-01-01 00:36:00   -0.309013\n",
       "2020-01-01 00:37:00   -1.676004\n",
       "2020-01-01 00:38:00    1.152332\n",
       "2020-01-01 00:39:00    1.079619\n",
       "2020-01-01 00:40:00   -0.813364\n",
       "2020-01-01 00:41:00   -1.466424\n",
       "2020-01-01 00:42:00    0.521065\n",
       "2020-01-01 00:43:00   -0.575788\n",
       "2020-01-01 00:44:00    0.141953\n",
       "2020-01-01 00:45:00   -0.319328\n",
       "2020-01-01 00:46:00    0.691539\n",
       "2020-01-01 00:47:00    0.694749\n",
       "2020-01-01 00:48:00   -0.725597\n",
       "2020-01-01 00:49:00   -1.383364\n",
       "2020-01-01 00:50:00   -1.582938\n",
       "2020-01-01 00:51:00    0.610379\n",
       "2020-01-01 00:52:00   -1.188859\n",
       "2020-01-01 00:53:00   -0.506816\n",
       "2020-01-01 00:54:00   -0.596314\n",
       "2020-01-01 00:55:00   -0.052567\n",
       "2020-01-01 00:56:00   -1.936280\n",
       "2020-01-01 00:57:00    0.188779\n",
       "2020-01-01 00:58:00    0.523891\n",
       "2020-01-01 00:59:00    0.088422\n",
       "Freq: T, dtype: float64"
      ]
     },
     "execution_count": 92,
     "metadata": {},
     "output_type": "execute_result"
    }
   ],
   "source": [
    "ts"
   ]
  },
  {
   "cell_type": "code",
   "execution_count": null,
   "metadata": {},
   "outputs": [],
   "source": []
  },
  {
   "cell_type": "code",
   "execution_count": null,
   "metadata": {},
   "outputs": [],
   "source": []
  },
  {
   "cell_type": "code",
   "execution_count": 93,
   "metadata": {},
   "outputs": [],
   "source": [
    "result = ts.resample('5T').ohlc()"
   ]
  },
  {
   "cell_type": "code",
   "execution_count": 94,
   "metadata": {},
   "outputs": [
    {
     "data": {
      "text/html": [
       "<div>\n",
       "<style scoped>\n",
       "    .dataframe tbody tr th:only-of-type {\n",
       "        vertical-align: middle;\n",
       "    }\n",
       "\n",
       "    .dataframe tbody tr th {\n",
       "        vertical-align: top;\n",
       "    }\n",
       "\n",
       "    .dataframe thead th {\n",
       "        text-align: right;\n",
       "    }\n",
       "</style>\n",
       "<table border=\"1\" class=\"dataframe\">\n",
       "  <thead>\n",
       "    <tr style=\"text-align: right;\">\n",
       "      <th></th>\n",
       "      <th>open</th>\n",
       "      <th>high</th>\n",
       "      <th>low</th>\n",
       "      <th>close</th>\n",
       "    </tr>\n",
       "  </thead>\n",
       "  <tbody>\n",
       "    <tr>\n",
       "      <th>2020-01-01 00:00:00</th>\n",
       "      <td>0.279925</td>\n",
       "      <td>0.910179</td>\n",
       "      <td>-0.098150</td>\n",
       "      <td>0.786328</td>\n",
       "    </tr>\n",
       "    <tr>\n",
       "      <th>2020-01-01 00:05:00</th>\n",
       "      <td>-0.466419</td>\n",
       "      <td>0.379152</td>\n",
       "      <td>-0.944446</td>\n",
       "      <td>0.379152</td>\n",
       "    </tr>\n",
       "    <tr>\n",
       "      <th>2020-01-01 00:10:00</th>\n",
       "      <td>2.259309</td>\n",
       "      <td>2.259309</td>\n",
       "      <td>-0.955945</td>\n",
       "      <td>-0.463596</td>\n",
       "    </tr>\n",
       "    <tr>\n",
       "      <th>2020-01-01 00:15:00</th>\n",
       "      <td>0.481481</td>\n",
       "      <td>0.481481</td>\n",
       "      <td>-1.540797</td>\n",
       "      <td>0.232181</td>\n",
       "    </tr>\n",
       "    <tr>\n",
       "      <th>2020-01-01 00:20:00</th>\n",
       "      <td>-0.597316</td>\n",
       "      <td>-0.237922</td>\n",
       "      <td>-1.424061</td>\n",
       "      <td>-0.542861</td>\n",
       "    </tr>\n",
       "    <tr>\n",
       "      <th>2020-01-01 00:25:00</th>\n",
       "      <td>0.416050</td>\n",
       "      <td>1.494485</td>\n",
       "      <td>-2.069985</td>\n",
       "      <td>-2.069985</td>\n",
       "    </tr>\n",
       "    <tr>\n",
       "      <th>2020-01-01 00:30:00</th>\n",
       "      <td>0.426259</td>\n",
       "      <td>0.676908</td>\n",
       "      <td>-0.637437</td>\n",
       "      <td>-0.132881</td>\n",
       "    </tr>\n",
       "    <tr>\n",
       "      <th>2020-01-01 00:35:00</th>\n",
       "      <td>-0.297791</td>\n",
       "      <td>1.152332</td>\n",
       "      <td>-1.676004</td>\n",
       "      <td>1.079619</td>\n",
       "    </tr>\n",
       "    <tr>\n",
       "      <th>2020-01-01 00:40:00</th>\n",
       "      <td>-0.813364</td>\n",
       "      <td>0.521065</td>\n",
       "      <td>-1.466424</td>\n",
       "      <td>0.141953</td>\n",
       "    </tr>\n",
       "    <tr>\n",
       "      <th>2020-01-01 00:45:00</th>\n",
       "      <td>-0.319328</td>\n",
       "      <td>0.694749</td>\n",
       "      <td>-1.383364</td>\n",
       "      <td>-1.383364</td>\n",
       "    </tr>\n",
       "    <tr>\n",
       "      <th>2020-01-01 00:50:00</th>\n",
       "      <td>-1.582938</td>\n",
       "      <td>0.610379</td>\n",
       "      <td>-1.582938</td>\n",
       "      <td>-0.596314</td>\n",
       "    </tr>\n",
       "    <tr>\n",
       "      <th>2020-01-01 00:55:00</th>\n",
       "      <td>-0.052567</td>\n",
       "      <td>0.523891</td>\n",
       "      <td>-1.936280</td>\n",
       "      <td>0.088422</td>\n",
       "    </tr>\n",
       "  </tbody>\n",
       "</table>\n",
       "</div>"
      ],
      "text/plain": [
       "                         open      high       low     close\n",
       "2020-01-01 00:00:00  0.279925  0.910179 -0.098150  0.786328\n",
       "2020-01-01 00:05:00 -0.466419  0.379152 -0.944446  0.379152\n",
       "2020-01-01 00:10:00  2.259309  2.259309 -0.955945 -0.463596\n",
       "2020-01-01 00:15:00  0.481481  0.481481 -1.540797  0.232181\n",
       "2020-01-01 00:20:00 -0.597316 -0.237922 -1.424061 -0.542861\n",
       "2020-01-01 00:25:00  0.416050  1.494485 -2.069985 -2.069985\n",
       "2020-01-01 00:30:00  0.426259  0.676908 -0.637437 -0.132881\n",
       "2020-01-01 00:35:00 -0.297791  1.152332 -1.676004  1.079619\n",
       "2020-01-01 00:40:00 -0.813364  0.521065 -1.466424  0.141953\n",
       "2020-01-01 00:45:00 -0.319328  0.694749 -1.383364 -1.383364\n",
       "2020-01-01 00:50:00 -1.582938  0.610379 -1.582938 -0.596314\n",
       "2020-01-01 00:55:00 -0.052567  0.523891 -1.936280  0.088422"
      ]
     },
     "execution_count": 94,
     "metadata": {},
     "output_type": "execute_result"
    }
   ],
   "source": [
    "result"
   ]
  },
  {
   "cell_type": "code",
   "execution_count": null,
   "metadata": {},
   "outputs": [],
   "source": []
  },
  {
   "cell_type": "code",
   "execution_count": 95,
   "metadata": {},
   "outputs": [],
   "source": [
    "result = ts.resample('30s').ffill().head(20)"
   ]
  },
  {
   "cell_type": "code",
   "execution_count": 96,
   "metadata": {},
   "outputs": [
    {
     "data": {
      "text/plain": [
       "2020-01-01 00:00:00    0.279925\n",
       "2020-01-01 00:00:30    0.279925\n",
       "2020-01-01 00:01:00   -0.098150\n",
       "2020-01-01 00:01:30   -0.098150\n",
       "2020-01-01 00:02:00    0.910179\n",
       "2020-01-01 00:02:30    0.910179\n",
       "2020-01-01 00:03:00    0.317218\n",
       "2020-01-01 00:03:30    0.317218\n",
       "2020-01-01 00:04:00    0.786328\n",
       "2020-01-01 00:04:30    0.786328\n",
       "2020-01-01 00:05:00   -0.466419\n",
       "2020-01-01 00:05:30   -0.466419\n",
       "2020-01-01 00:06:00   -0.944446\n",
       "2020-01-01 00:06:30   -0.944446\n",
       "2020-01-01 00:07:00   -0.410050\n",
       "2020-01-01 00:07:30   -0.410050\n",
       "2020-01-01 00:08:00   -0.017020\n",
       "2020-01-01 00:08:30   -0.017020\n",
       "2020-01-01 00:09:00    0.379152\n",
       "2020-01-01 00:09:30    0.379152\n",
       "Freq: 30S, dtype: float64"
      ]
     },
     "execution_count": 96,
     "metadata": {},
     "output_type": "execute_result"
    }
   ],
   "source": [
    "result"
   ]
  },
  {
   "cell_type": "code",
   "execution_count": 97,
   "metadata": {},
   "outputs": [],
   "source": [
    "result = ts.resample('30s').bfill().head(20)"
   ]
  },
  {
   "cell_type": "code",
   "execution_count": 98,
   "metadata": {},
   "outputs": [
    {
     "data": {
      "text/plain": [
       "2020-01-01 00:00:00    0.279925\n",
       "2020-01-01 00:00:30   -0.098150\n",
       "2020-01-01 00:01:00   -0.098150\n",
       "2020-01-01 00:01:30    0.910179\n",
       "2020-01-01 00:02:00    0.910179\n",
       "2020-01-01 00:02:30    0.317218\n",
       "2020-01-01 00:03:00    0.317218\n",
       "2020-01-01 00:03:30    0.786328\n",
       "2020-01-01 00:04:00    0.786328\n",
       "2020-01-01 00:04:30   -0.466419\n",
       "2020-01-01 00:05:00   -0.466419\n",
       "2020-01-01 00:05:30   -0.944446\n",
       "2020-01-01 00:06:00   -0.944446\n",
       "2020-01-01 00:06:30   -0.410050\n",
       "2020-01-01 00:07:00   -0.410050\n",
       "2020-01-01 00:07:30   -0.017020\n",
       "2020-01-01 00:08:00   -0.017020\n",
       "2020-01-01 00:08:30    0.379152\n",
       "2020-01-01 00:09:00    0.379152\n",
       "2020-01-01 00:09:30    2.259309\n",
       "Freq: 30S, dtype: float64"
      ]
     },
     "execution_count": 98,
     "metadata": {},
     "output_type": "execute_result"
    }
   ],
   "source": [
    "result"
   ]
  },
  {
   "cell_type": "code",
   "execution_count": null,
   "metadata": {},
   "outputs": [],
   "source": []
  }
 ],
 "metadata": {
  "kernelspec": {
   "display_name": "Python 3",
   "language": "python",
   "name": "python3"
  },
  "language_info": {
   "codemirror_mode": {
    "name": "ipython",
    "version": 3
   },
   "file_extension": ".py",
   "mimetype": "text/x-python",
   "name": "python",
   "nbconvert_exporter": "python",
   "pygments_lexer": "ipython3",
   "version": "3.7.6"
  }
 },
 "nbformat": 4,
 "nbformat_minor": 4
}
