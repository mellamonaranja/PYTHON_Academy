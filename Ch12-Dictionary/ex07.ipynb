{
 "cells": [
  {
   "cell_type": "code",
   "execution_count": 1,
   "metadata": {},
   "outputs": [],
   "source": [
    "dic = {10:'홍길동', 20:'손오공', 30:'도깨비'}"
   ]
  },
  {
   "cell_type": "code",
   "execution_count": 2,
   "metadata": {},
   "outputs": [
    {
     "data": {
      "text/plain": [
       "{10: '홍길동', 20: '손오공', 30: '도깨비'}"
      ]
     },
     "execution_count": 2,
     "metadata": {},
     "output_type": "execute_result"
    }
   ],
   "source": [
    "dic"
   ]
  },
  {
   "cell_type": "code",
   "execution_count": 3,
   "metadata": {},
   "outputs": [
    {
     "data": {
      "text/plain": [
       "3"
      ]
     },
     "execution_count": 3,
     "metadata": {},
     "output_type": "execute_result"
    }
   ],
   "source": [
    "len(dic)"
   ]
  },
  {
   "cell_type": "code",
   "execution_count": 4,
   "metadata": {},
   "outputs": [
    {
     "data": {
      "text/plain": [
       "'손오공'"
      ]
     },
     "execution_count": 4,
     "metadata": {},
     "output_type": "execute_result"
    }
   ],
   "source": [
    "dic[20]"
   ]
  },
  {
   "cell_type": "code",
   "execution_count": 5,
   "metadata": {},
   "outputs": [],
   "source": [
    "del dic[20]"
   ]
  },
  {
   "cell_type": "code",
   "execution_count": 6,
   "metadata": {},
   "outputs": [
    {
     "data": {
      "text/plain": [
       "{10: '홍길동', 30: '도깨비'}"
      ]
     },
     "execution_count": 6,
     "metadata": {},
     "output_type": "execute_result"
    }
   ],
   "source": [
    "dic"
   ]
  },
  {
   "cell_type": "code",
   "execution_count": 7,
   "metadata": {},
   "outputs": [],
   "source": [
    "dic.clear()"
   ]
  },
  {
   "cell_type": "code",
   "execution_count": 8,
   "metadata": {},
   "outputs": [
    {
     "data": {
      "text/plain": [
       "{}"
      ]
     },
     "execution_count": 8,
     "metadata": {},
     "output_type": "execute_result"
    }
   ],
   "source": [
    "dic"
   ]
  },
  {
   "cell_type": "code",
   "execution_count": null,
   "metadata": {},
   "outputs": [],
   "source": []
  },
  {
   "cell_type": "code",
   "execution_count": 9,
   "metadata": {},
   "outputs": [],
   "source": [
    "address1 = {\n",
    "    1:{'name':'hong gildong', \n",
    "       'email':'hong@gmail.com',\n",
    "      'tel':'010-1234-5678'},\n",
    "    2:{'name':'kim gildong', \n",
    "       'email':'kim@gmail.com',\n",
    "      'tel':'010-1111-2222'},\n",
    "    3:{'name':'bae gildong', \n",
    "       'email':'bae@gmail.com',\n",
    "      'tel':'010-3333-4444'},\n",
    "    4:{'name':'kim coding', \n",
    "       'email':'coding@gmail.com',\n",
    "      'tel':'010-5555-6666'},\n",
    "    5:{'name':'min gildong', \n",
    "       'email':'min@gmail.com',\n",
    "      'tel':'010-7777-8888'}\n",
    "}"
   ]
  },
  {
   "cell_type": "code",
   "execution_count": 10,
   "metadata": {},
   "outputs": [
    {
     "data": {
      "text/plain": [
       "{1: {'name': 'hong gildong',\n",
       "  'email': 'hong@gmail.com',\n",
       "  'tel': '010-1234-5678'},\n",
       " 2: {'name': 'kim gildong', 'email': 'kim@gmail.com', 'tel': '010-1111-2222'},\n",
       " 3: {'name': 'bae gildong', 'email': 'bae@gmail.com', 'tel': '010-3333-4444'},\n",
       " 4: {'name': 'kim coding',\n",
       "  'email': 'coding@gmail.com',\n",
       "  'tel': '010-5555-6666'},\n",
       " 5: {'name': 'min gildong', 'email': 'min@gmail.com', 'tel': '010-7777-8888'}}"
      ]
     },
     "execution_count": 10,
     "metadata": {},
     "output_type": "execute_result"
    }
   ],
   "source": [
    "address1"
   ]
  },
  {
   "cell_type": "code",
   "execution_count": null,
   "metadata": {},
   "outputs": [],
   "source": []
  },
  {
   "cell_type": "code",
   "execution_count": null,
   "metadata": {},
   "outputs": [],
   "source": [
    "key가 1인 홍길동의 데이터를 아래처럼 출력\n",
    "\n",
    "name: hong gildong\n",
    "email: hong@gmail.com\n",
    "tel: 010-1234-5678"
   ]
  },
  {
   "cell_type": "code",
   "execution_count": 12,
   "metadata": {},
   "outputs": [
    {
     "data": {
      "text/plain": [
       "{'name': 'hong gildong', 'email': 'hong@gmail.com', 'tel': '010-1234-5678'}"
      ]
     },
     "execution_count": 12,
     "metadata": {},
     "output_type": "execute_result"
    }
   ],
   "source": [
    "address1[1]"
   ]
  },
  {
   "cell_type": "code",
   "execution_count": 13,
   "metadata": {},
   "outputs": [
    {
     "data": {
      "text/plain": [
       "dict_items([('name', 'hong gildong'), ('email', 'hong@gmail.com'), ('tel', '010-1234-5678')])"
      ]
     },
     "execution_count": 13,
     "metadata": {},
     "output_type": "execute_result"
    }
   ],
   "source": [
    "address1[1].items()"
   ]
  },
  {
   "cell_type": "code",
   "execution_count": 14,
   "metadata": {},
   "outputs": [
    {
     "name": "stdout",
     "output_type": "stream",
     "text": [
      "name : hong gildong\n",
      "email : hong@gmail.com\n",
      "tel : 010-1234-5678\n"
     ]
    }
   ],
   "source": [
    "for k, v in address1[1].items():\n",
    "    print(k, \":\", v)"
   ]
  },
  {
   "cell_type": "code",
   "execution_count": null,
   "metadata": {},
   "outputs": [],
   "source": []
  },
  {
   "cell_type": "code",
   "execution_count": 15,
   "metadata": {},
   "outputs": [],
   "source": [
    "address2 = [{'id':1, 'name':'hong gildong', \n",
    "       'email':'hong@gmail.com',\n",
    "      'tel':'010-1234-5678'},\n",
    "    {'id':2, 'name':'kim gildong', \n",
    "       'email':'kim@gmail.com',\n",
    "      'tel':'010-1111-2222'},\n",
    "    {'id':3, 'name':'bae gildong', \n",
    "       'email':'bae@gmail.com',\n",
    "      'tel':'010-3333-4444'},\n",
    "    {'id':4, 'name':'kim coding', \n",
    "       'email':'coding@gmail.com',\n",
    "      'tel':'010-5555-6666'},\n",
    "    {'id':5, 'name':'min gildong', \n",
    "       'email':'min@gmail.com',\n",
    "      'tel':'010-7777-8888'}]"
   ]
  },
  {
   "cell_type": "code",
   "execution_count": 16,
   "metadata": {},
   "outputs": [
    {
     "data": {
      "text/plain": [
       "[{'id': 1,\n",
       "  'name': 'hong gildong',\n",
       "  'email': 'hong@gmail.com',\n",
       "  'tel': '010-1234-5678'},\n",
       " {'id': 2,\n",
       "  'name': 'kim gildong',\n",
       "  'email': 'kim@gmail.com',\n",
       "  'tel': '010-1111-2222'},\n",
       " {'id': 3,\n",
       "  'name': 'bae gildong',\n",
       "  'email': 'bae@gmail.com',\n",
       "  'tel': '010-3333-4444'},\n",
       " {'id': 4,\n",
       "  'name': 'kim coding',\n",
       "  'email': 'coding@gmail.com',\n",
       "  'tel': '010-5555-6666'},\n",
       " {'id': 5,\n",
       "  'name': 'min gildong',\n",
       "  'email': 'min@gmail.com',\n",
       "  'tel': '010-7777-8888'}]"
      ]
     },
     "execution_count": 16,
     "metadata": {},
     "output_type": "execute_result"
    }
   ],
   "source": [
    "address2"
   ]
  },
  {
   "cell_type": "code",
   "execution_count": null,
   "metadata": {},
   "outputs": [],
   "source": [
    "id가 1인 홍길동의 데이터를 아래처럼 출력\n",
    "\n",
    "name: hong gildong\n",
    "email: hong@gmail.com\n",
    "tel: 010-1234-5678"
   ]
  },
  {
   "cell_type": "code",
   "execution_count": 19,
   "metadata": {},
   "outputs": [
    {
     "name": "stdout",
     "output_type": "stream",
     "text": [
      "{'id': 1, 'name': 'hong gildong', 'email': 'hong@gmail.com', 'tel': '010-1234-5678'}\n",
      "{'id': 2, 'name': 'kim gildong', 'email': 'kim@gmail.com', 'tel': '010-1111-2222'}\n",
      "{'id': 3, 'name': 'bae gildong', 'email': 'bae@gmail.com', 'tel': '010-3333-4444'}\n",
      "{'id': 4, 'name': 'kim coding', 'email': 'coding@gmail.com', 'tel': '010-5555-6666'}\n",
      "{'id': 5, 'name': 'min gildong', 'email': 'min@gmail.com', 'tel': '010-7777-8888'}\n"
     ]
    }
   ],
   "source": [
    "for ar in address2:\n",
    "    print(ar)\n",
    "#     print(ar['id'])"
   ]
  },
  {
   "cell_type": "code",
   "execution_count": null,
   "metadata": {},
   "outputs": [],
   "source": []
  },
  {
   "cell_type": "code",
   "execution_count": 25,
   "metadata": {},
   "outputs": [
    {
     "name": "stdout",
     "output_type": "stream",
     "text": [
      "name : hong gildong\n",
      "email : hong@gmail.com\n",
      "tel : 010-1234-5678\n"
     ]
    }
   ],
   "source": [
    "for ar in address2:\n",
    "    if(ar['id']==1):\n",
    "        for k, v in ar.items():\n",
    "            if k!='id':\n",
    "                print(k, \":\", v)"
   ]
  },
  {
   "cell_type": "code",
   "execution_count": null,
   "metadata": {},
   "outputs": [],
   "source": []
  },
  {
   "cell_type": "code",
   "execution_count": 26,
   "metadata": {},
   "outputs": [],
   "source": [
    "message = '사람은 오로지 가슴으로만 올바로 볼수 있다. 본질적인 것은 눈에 보이지 않는다.'"
   ]
  },
  {
   "cell_type": "code",
   "execution_count": 27,
   "metadata": {},
   "outputs": [
    {
     "data": {
      "text/plain": [
       "'사람은 오로지 가슴으로만 올바로 볼수 있다. 본질적인 것은 눈에 보이지 않는다.'"
      ]
     },
     "execution_count": 27,
     "metadata": {},
     "output_type": "execute_result"
    }
   ],
   "source": [
    "message"
   ]
  },
  {
   "cell_type": "code",
   "execution_count": null,
   "metadata": {},
   "outputs": [],
   "source": [
    "문장 속에 있는 문자 개수를 카운팅해서\n",
    "딕셔너리 형태로 저장한 후 출력해 주시기 바랍니다.\n",
    "\n",
    "{'사':1, '람':1, '은':2, ......}"
   ]
  },
  {
   "cell_type": "code",
   "execution_count": 28,
   "metadata": {},
   "outputs": [],
   "source": [
    "counter = {}"
   ]
  },
  {
   "cell_type": "code",
   "execution_count": null,
   "metadata": {},
   "outputs": [],
   "source": [
    "setdefault()"
   ]
  },
  {
   "cell_type": "code",
   "execution_count": 31,
   "metadata": {},
   "outputs": [],
   "source": [
    "for ch in message:\n",
    "#     print(ch)\n",
    "    counter[ch] = counter.setdefault(ch, 0) + 1"
   ]
  },
  {
   "cell_type": "code",
   "execution_count": 32,
   "metadata": {},
   "outputs": [
    {
     "data": {
      "text/plain": [
       "{'사': 1,\n",
       " '람': 1,\n",
       " '은': 2,\n",
       " ' ': 10,\n",
       " '오': 1,\n",
       " '로': 3,\n",
       " '지': 2,\n",
       " '가': 1,\n",
       " '슴': 1,\n",
       " '으': 1,\n",
       " '만': 1,\n",
       " '올': 1,\n",
       " '바': 1,\n",
       " '볼': 1,\n",
       " '수': 1,\n",
       " '있': 1,\n",
       " '다': 2,\n",
       " '.': 2,\n",
       " '본': 1,\n",
       " '질': 1,\n",
       " '적': 1,\n",
       " '인': 1,\n",
       " '것': 1,\n",
       " '눈': 1,\n",
       " '에': 1,\n",
       " '보': 1,\n",
       " '이': 1,\n",
       " '않': 1,\n",
       " '는': 1}"
      ]
     },
     "execution_count": 32,
     "metadata": {},
     "output_type": "execute_result"
    }
   ],
   "source": [
    "counter"
   ]
  },
  {
   "cell_type": "code",
   "execution_count": null,
   "metadata": {},
   "outputs": [],
   "source": []
  }
 ],
 "metadata": {
  "kernelspec": {
   "display_name": "Python 3",
   "language": "python",
   "name": "python3"
  },
  "language_info": {
   "codemirror_mode": {
    "name": "ipython",
    "version": 3
   },
   "file_extension": ".py",
   "mimetype": "text/x-python",
   "name": "python",
   "nbconvert_exporter": "python",
   "pygments_lexer": "ipython3",
   "version": "3.7.6"
  }
 },
 "nbformat": 4,
 "nbformat_minor": 4
}
