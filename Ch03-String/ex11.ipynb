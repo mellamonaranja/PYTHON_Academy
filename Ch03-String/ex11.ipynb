{
 "cells": [
  {
   "cell_type": "code",
   "execution_count": 1,
   "metadata": {},
   "outputs": [],
   "source": [
    "invitation = '''\n",
    "안녕하세요. '%s'님,\n",
    "요번주 금요일 밤 파티에 참석해 주실 수 있으신가요?\n",
    "음료와 입장비 모두 무료입니다.\n",
    "\n",
    "Let's go party.\n",
    "'''"
   ]
  },
  {
   "cell_type": "code",
   "execution_count": 2,
   "metadata": {},
   "outputs": [],
   "source": [
    "name = '홍길동'"
   ]
  },
  {
   "cell_type": "code",
   "execution_count": 3,
   "metadata": {},
   "outputs": [
    {
     "name": "stdout",
     "output_type": "stream",
     "text": [
      "\n",
      "안녕하세요. '홍길동'님,\n",
      "요번주 금요일 밤 파티에 참석해 주실 수 있으신가요?\n",
      "음료와 입장비 모두 무료입니다.\n",
      "\n",
      "Let's go party.\n",
      "\n"
     ]
    }
   ],
   "source": [
    "print(invitation % name)"
   ]
  },
  {
   "cell_type": "code",
   "execution_count": 4,
   "metadata": {},
   "outputs": [],
   "source": [
    "names = ['유아인', '조정석', '아이유', '나연']"
   ]
  },
  {
   "cell_type": "code",
   "execution_count": 5,
   "metadata": {},
   "outputs": [
    {
     "name": "stdout",
     "output_type": "stream",
     "text": [
      "['유아인', '조정석', '아이유', '나연']\n"
     ]
    }
   ],
   "source": [
    "print(names)"
   ]
  },
  {
   "cell_type": "code",
   "execution_count": 7,
   "metadata": {},
   "outputs": [
    {
     "name": "stdout",
     "output_type": "stream",
     "text": [
      "\n",
      "안녕하세요. '유아인'님,\n",
      "요번주 금요일 밤 파티에 참석해 주실 수 있으신가요?\n",
      "음료와 입장비 모두 무료입니다.\n",
      "\n",
      "Let's go party.\n",
      "\n",
      "----------------------------------------\n",
      "\n",
      "안녕하세요. '조정석'님,\n",
      "요번주 금요일 밤 파티에 참석해 주실 수 있으신가요?\n",
      "음료와 입장비 모두 무료입니다.\n",
      "\n",
      "Let's go party.\n",
      "\n",
      "----------------------------------------\n",
      "\n",
      "안녕하세요. '아이유'님,\n",
      "요번주 금요일 밤 파티에 참석해 주실 수 있으신가요?\n",
      "음료와 입장비 모두 무료입니다.\n",
      "\n",
      "Let's go party.\n",
      "\n",
      "----------------------------------------\n",
      "\n",
      "안녕하세요. '나연'님,\n",
      "요번주 금요일 밤 파티에 참석해 주실 수 있으신가요?\n",
      "음료와 입장비 모두 무료입니다.\n",
      "\n",
      "Let's go party.\n",
      "\n",
      "----------------------------------------\n"
     ]
    }
   ],
   "source": [
    "for name in names:\n",
    "    print(invitation % name)\n",
    "    print('-'*40)"
   ]
  },
  {
   "cell_type": "code",
   "execution_count": null,
   "metadata": {},
   "outputs": [],
   "source": []
  }
 ],
 "metadata": {
  "kernelspec": {
   "display_name": "Python 3",
   "language": "python",
   "name": "python3"
  },
  "language_info": {
   "codemirror_mode": {
    "name": "ipython",
    "version": 3
   },
   "file_extension": ".py",
   "mimetype": "text/x-python",
   "name": "python",
   "nbconvert_exporter": "python",
   "pygments_lexer": "ipython3",
   "version": "3.7.6"
  }
 },
 "nbformat": 4,
 "nbformat_minor": 4
}
