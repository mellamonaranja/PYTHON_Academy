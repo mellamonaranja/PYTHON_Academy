{
 "cells": [
  {
   "cell_type": "code",
   "execution_count": 1,
   "metadata": {},
   "outputs": [
    {
     "name": "stdout",
     "output_type": "stream",
     "text": [
      " 개발자 -- 1234 \n"
     ]
    }
   ],
   "source": [
    "print(\" %s -- %s \" % ('개발자', '1234') )"
   ]
  },
  {
   "cell_type": "code",
   "execution_count": 3,
   "metadata": {},
   "outputs": [
    {
     "name": "stdout",
     "output_type": "stream",
     "text": [
      " 개발자 -- 1234 \n"
     ]
    }
   ],
   "source": [
    "print(\" %(이름)s -- %(전화번호)s \" % {'이름':'개발자', '전화번호':'1234' } )"
   ]
  },
  {
   "cell_type": "code",
   "execution_count": 4,
   "metadata": {},
   "outputs": [
    {
     "name": "stdout",
     "output_type": "stream",
     "text": [
      " 개발자 -- 1234 \n"
     ]
    }
   ],
   "source": [
    "print(\" %(이름)s -- %(전화번호)s \" % {'이름':'개발자', '전화번호':'1234', '주소':'Seoul' } )"
   ]
  },
  {
   "cell_type": "code",
   "execution_count": 5,
   "metadata": {},
   "outputs": [
    {
     "name": "stdout",
     "output_type": "stream",
     "text": [
      " 개발자 -- 1234 \n"
     ]
    }
   ],
   "source": [
    "print(\" %(이름)s -- %(전화번호)s \" % {'이름':'개발자', '주소':'Seoul', '전화번호':'1234' } )"
   ]
  }
 ],
 "metadata": {
  "kernelspec": {
   "display_name": "Python 3",
   "language": "python",
   "name": "python3"
  },
  "language_info": {
   "codemirror_mode": {
    "name": "ipython",
    "version": 3
   },
   "file_extension": ".py",
   "mimetype": "text/x-python",
   "name": "python",
   "nbconvert_exporter": "python",
   "pygments_lexer": "ipython3",
   "version": "3.7.6"
  }
 },
 "nbformat": 4,
 "nbformat_minor": 4
}
