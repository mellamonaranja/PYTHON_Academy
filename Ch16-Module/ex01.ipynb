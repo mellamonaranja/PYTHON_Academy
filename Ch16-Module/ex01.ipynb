{
 "cells": [
  {
   "cell_type": "code",
   "execution_count": null,
   "metadata": {},
   "outputs": [],
   "source": [
    "'''\n",
    "모듈 정보 알아보기\n",
    "'''"
   ]
  },
  {
   "cell_type": "code",
   "execution_count": 1,
   "metadata": {},
   "outputs": [],
   "source": [
    "import string"
   ]
  },
  {
   "cell_type": "code",
   "execution_count": 2,
   "metadata": {},
   "outputs": [
    {
     "data": {
      "text/plain": [
       "['Formatter',\n",
       " 'Template',\n",
       " '_ChainMap',\n",
       " '_TemplateMetaclass',\n",
       " '__all__',\n",
       " '__builtins__',\n",
       " '__cached__',\n",
       " '__doc__',\n",
       " '__file__',\n",
       " '__loader__',\n",
       " '__name__',\n",
       " '__package__',\n",
       " '__spec__',\n",
       " '_re',\n",
       " '_string',\n",
       " 'ascii_letters',\n",
       " 'ascii_lowercase',\n",
       " 'ascii_uppercase',\n",
       " 'capwords',\n",
       " 'digits',\n",
       " 'hexdigits',\n",
       " 'octdigits',\n",
       " 'printable',\n",
       " 'punctuation',\n",
       " 'whitespace']"
      ]
     },
     "execution_count": 2,
     "metadata": {},
     "output_type": "execute_result"
    }
   ],
   "source": [
    "dir(string)"
   ]
  },
  {
   "cell_type": "code",
   "execution_count": null,
   "metadata": {},
   "outputs": [],
   "source": []
  },
  {
   "cell_type": "code",
   "execution_count": 3,
   "metadata": {},
   "outputs": [],
   "source": [
    "import sys"
   ]
  },
  {
   "cell_type": "code",
   "execution_count": 4,
   "metadata": {},
   "outputs": [
    {
     "data": {
      "text/plain": [
       "['C:\\\\Users\\\\TJ\\\\Anaconda3\\\\pml\\\\ch16-module',\n",
       " 'C:\\\\Users\\\\TJ\\\\Anaconda3\\\\envs\\\\codelab\\\\python37.zip',\n",
       " 'C:\\\\Users\\\\TJ\\\\Anaconda3\\\\envs\\\\codelab\\\\DLLs',\n",
       " 'C:\\\\Users\\\\TJ\\\\Anaconda3\\\\envs\\\\codelab\\\\lib',\n",
       " 'C:\\\\Users\\\\TJ\\\\Anaconda3\\\\envs\\\\codelab',\n",
       " '',\n",
       " 'C:\\\\Users\\\\TJ\\\\Anaconda3\\\\envs\\\\codelab\\\\lib\\\\site-packages',\n",
       " 'C:\\\\Users\\\\TJ\\\\Anaconda3\\\\envs\\\\codelab\\\\lib\\\\site-packages\\\\win32',\n",
       " 'C:\\\\Users\\\\TJ\\\\Anaconda3\\\\envs\\\\codelab\\\\lib\\\\site-packages\\\\win32\\\\lib',\n",
       " 'C:\\\\Users\\\\TJ\\\\Anaconda3\\\\envs\\\\codelab\\\\lib\\\\site-packages\\\\Pythonwin',\n",
       " 'C:\\\\Users\\\\TJ\\\\Anaconda3\\\\envs\\\\codelab\\\\lib\\\\site-packages\\\\IPython\\\\extensions',\n",
       " 'C:\\\\Users\\\\TJ\\\\.ipython']"
      ]
     },
     "execution_count": 4,
     "metadata": {},
     "output_type": "execute_result"
    }
   ],
   "source": [
    "sys.path"
   ]
  },
  {
   "cell_type": "code",
   "execution_count": 5,
   "metadata": {},
   "outputs": [],
   "source": [
    "sys.path.append('C:/CodeLab')"
   ]
  },
  {
   "cell_type": "code",
   "execution_count": 6,
   "metadata": {},
   "outputs": [
    {
     "data": {
      "text/plain": [
       "['C:\\\\Users\\\\TJ\\\\Anaconda3\\\\pml\\\\ch16-module',\n",
       " 'C:\\\\Users\\\\TJ\\\\Anaconda3\\\\envs\\\\codelab\\\\python37.zip',\n",
       " 'C:\\\\Users\\\\TJ\\\\Anaconda3\\\\envs\\\\codelab\\\\DLLs',\n",
       " 'C:\\\\Users\\\\TJ\\\\Anaconda3\\\\envs\\\\codelab\\\\lib',\n",
       " 'C:\\\\Users\\\\TJ\\\\Anaconda3\\\\envs\\\\codelab',\n",
       " '',\n",
       " 'C:\\\\Users\\\\TJ\\\\Anaconda3\\\\envs\\\\codelab\\\\lib\\\\site-packages',\n",
       " 'C:\\\\Users\\\\TJ\\\\Anaconda3\\\\envs\\\\codelab\\\\lib\\\\site-packages\\\\win32',\n",
       " 'C:\\\\Users\\\\TJ\\\\Anaconda3\\\\envs\\\\codelab\\\\lib\\\\site-packages\\\\win32\\\\lib',\n",
       " 'C:\\\\Users\\\\TJ\\\\Anaconda3\\\\envs\\\\codelab\\\\lib\\\\site-packages\\\\Pythonwin',\n",
       " 'C:\\\\Users\\\\TJ\\\\Anaconda3\\\\envs\\\\codelab\\\\lib\\\\site-packages\\\\IPython\\\\extensions',\n",
       " 'C:\\\\Users\\\\TJ\\\\.ipython',\n",
       " 'C:/CodeLab']"
      ]
     },
     "execution_count": 6,
     "metadata": {},
     "output_type": "execute_result"
    }
   ],
   "source": [
    "sys.path"
   ]
  },
  {
   "cell_type": "code",
   "execution_count": 10,
   "metadata": {},
   "outputs": [],
   "source": [
    "sys.path.append(\"C:\\\\Users\\\\TJ\\\\Anaconda3\\\\pml\")"
   ]
  },
  {
   "cell_type": "code",
   "execution_count": 11,
   "metadata": {},
   "outputs": [
    {
     "data": {
      "text/plain": [
       "['C:\\\\Users\\\\TJ\\\\Anaconda3\\\\pml\\\\ch16-module',\n",
       " 'C:\\\\Users\\\\TJ\\\\Anaconda3\\\\envs\\\\codelab\\\\python37.zip',\n",
       " 'C:\\\\Users\\\\TJ\\\\Anaconda3\\\\envs\\\\codelab\\\\DLLs',\n",
       " 'C:\\\\Users\\\\TJ\\\\Anaconda3\\\\envs\\\\codelab\\\\lib',\n",
       " 'C:\\\\Users\\\\TJ\\\\Anaconda3\\\\envs\\\\codelab',\n",
       " '',\n",
       " 'C:\\\\Users\\\\TJ\\\\Anaconda3\\\\envs\\\\codelab\\\\lib\\\\site-packages',\n",
       " 'C:\\\\Users\\\\TJ\\\\Anaconda3\\\\envs\\\\codelab\\\\lib\\\\site-packages\\\\win32',\n",
       " 'C:\\\\Users\\\\TJ\\\\Anaconda3\\\\envs\\\\codelab\\\\lib\\\\site-packages\\\\win32\\\\lib',\n",
       " 'C:\\\\Users\\\\TJ\\\\Anaconda3\\\\envs\\\\codelab\\\\lib\\\\site-packages\\\\Pythonwin',\n",
       " 'C:\\\\Users\\\\TJ\\\\Anaconda3\\\\envs\\\\codelab\\\\lib\\\\site-packages\\\\IPython\\\\extensions',\n",
       " 'C:\\\\Users\\\\TJ\\\\.ipython',\n",
       " 'C:/CodeLab',\n",
       " 'C:\\\\Users\\\\TJ\\\\Anaconda3\\\\pml',\n",
       " 'C:\\\\Users\\\\TJ\\\\Anaconda3\\\\pml']"
      ]
     },
     "execution_count": 11,
     "metadata": {},
     "output_type": "execute_result"
    }
   ],
   "source": [
    "sys.path"
   ]
  },
  {
   "cell_type": "code",
   "execution_count": null,
   "metadata": {},
   "outputs": [],
   "source": []
  }
 ],
 "metadata": {
  "kernelspec": {
   "display_name": "Python 3",
   "language": "python",
   "name": "python3"
  },
  "language_info": {
   "codemirror_mode": {
    "name": "ipython",
    "version": 3
   },
   "file_extension": ".py",
   "mimetype": "text/x-python",
   "name": "python",
   "nbconvert_exporter": "python",
   "pygments_lexer": "ipython3",
   "version": "3.7.6"
  }
 },
 "nbformat": 4,
 "nbformat_minor": 4
}
