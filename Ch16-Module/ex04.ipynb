{
 "cells": [
  {
   "cell_type": "code",
   "execution_count": 1,
   "metadata": {},
   "outputs": [],
   "source": [
    "import sys"
   ]
  },
  {
   "cell_type": "code",
   "execution_count": 2,
   "metadata": {},
   "outputs": [
    {
     "data": {
      "text/plain": [
       "['C:\\\\Users\\\\TJ\\\\Anaconda3\\\\pml\\\\ch16-module',\n",
       " 'C:\\\\Users\\\\TJ\\\\Anaconda3\\\\envs\\\\codelab\\\\python37.zip',\n",
       " 'C:\\\\Users\\\\TJ\\\\Anaconda3\\\\envs\\\\codelab\\\\DLLs',\n",
       " 'C:\\\\Users\\\\TJ\\\\Anaconda3\\\\envs\\\\codelab\\\\lib',\n",
       " 'C:\\\\Users\\\\TJ\\\\Anaconda3\\\\envs\\\\codelab',\n",
       " '',\n",
       " 'C:\\\\Users\\\\TJ\\\\Anaconda3\\\\envs\\\\codelab\\\\lib\\\\site-packages',\n",
       " 'C:\\\\Users\\\\TJ\\\\Anaconda3\\\\envs\\\\codelab\\\\lib\\\\site-packages\\\\win32',\n",
       " 'C:\\\\Users\\\\TJ\\\\Anaconda3\\\\envs\\\\codelab\\\\lib\\\\site-packages\\\\win32\\\\lib',\n",
       " 'C:\\\\Users\\\\TJ\\\\Anaconda3\\\\envs\\\\codelab\\\\lib\\\\site-packages\\\\Pythonwin',\n",
       " 'C:\\\\Users\\\\TJ\\\\Anaconda3\\\\envs\\\\codelab\\\\lib\\\\site-packages\\\\IPython\\\\extensions',\n",
       " 'C:\\\\Users\\\\TJ\\\\.ipython']"
      ]
     },
     "execution_count": 2,
     "metadata": {},
     "output_type": "execute_result"
    }
   ],
   "source": [
    "sys.path"
   ]
  },
  {
   "cell_type": "code",
   "execution_count": 3,
   "metadata": {},
   "outputs": [
    {
     "data": {
      "text/plain": [
       "list"
      ]
     },
     "execution_count": 3,
     "metadata": {},
     "output_type": "execute_result"
    }
   ],
   "source": [
    "type(sys.path)"
   ]
  },
  {
   "cell_type": "code",
   "execution_count": 4,
   "metadata": {},
   "outputs": [
    {
     "data": {
      "text/plain": [
       "'C:\\\\Users\\\\TJ\\\\Anaconda3\\\\envs\\\\codelab\\\\python37.zip'"
      ]
     },
     "execution_count": 4,
     "metadata": {},
     "output_type": "execute_result"
    }
   ],
   "source": [
    "sys.path[1]"
   ]
  },
  {
   "cell_type": "code",
   "execution_count": null,
   "metadata": {},
   "outputs": [],
   "source": []
  }
 ],
 "metadata": {
  "kernelspec": {
   "display_name": "Python 3",
   "language": "python",
   "name": "python3"
  },
  "language_info": {
   "codemirror_mode": {
    "name": "ipython",
    "version": 3
   },
   "file_extension": ".py",
   "mimetype": "text/x-python",
   "name": "python",
   "nbconvert_exporter": "python",
   "pygments_lexer": "ipython3",
   "version": "3.7.6"
  }
 },
 "nbformat": 4,
 "nbformat_minor": 4
}
